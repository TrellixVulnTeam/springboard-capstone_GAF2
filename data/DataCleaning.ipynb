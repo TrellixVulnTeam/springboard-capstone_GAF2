{
 "cells": [
  {
   "cell_type": "markdown",
   "metadata": {},
   "source": [
    "# Data Cleaning & Preparation For Text Summarization\n",
    "\n",
    "Text summarization has an easy to understand input and output. The input is a body of text, and the ouptut is a signficantally smaller summary. To clean the data we can perform the following operations. \n",
    "\n",
    "* Eliminate rows with null content or summary\n",
    "* Eliminate rows where the body or summary is too long or too short.\n",
    "* Remove unusual characters\n",
    "* Lower case the text\n",
    "* Remove rare tokens\n",
    "\n",
    "After the modeling is started this list may need to be expanded upon and the script re-run. \n",
    "\n",
    "The table will look like this:\n",
    "\n",
    "\n",
    "| content                             | summary                            |\n",
    "|-------------------------------------|------------------------------------|\n",
    "| Content between 100 and 1000 tokens | Sumamry between  20 and 100 tokens |\n",
    "\n",
    "\n",
    "\n",
    "The information on the individual data sources is in the SummarizationDataSources.ipynb notebook.\n",
    "\n",
    "\n",
    "\n",
    "\n"
   ]
  },
  {
   "cell_type": "code",
   "execution_count": 1,
   "metadata": {},
   "outputs": [],
   "source": [
    "from pyspark.sql import functions as F\n",
    "from pyspark.sql import udf\n",
    "import contractions\n",
    "import os\n",
    "os.environ['PYSPARK_SUBMIT_ARGS'] = '--jars /home/jzeimen/dev/ecosystem/spark/spark-tensorflow-connector/target/spark-tensorflow-connector_2.12-1.11.0.jar pyspark-shell'\n",
    "from pyspark.sql.functions import lower, col\n",
    "import pyspark\n",
    "from pyspark.sql import SparkSession\n",
    "spark = SparkSession.builder.appName(\"Summarization\") \\\n",
    "        .master(\"local[*]\") \\\n",
    "        .config(\"spark.jars\", \"/home/jzeimen/dev/ecosystem/spark/spark-tensorflow-connector/target/spark-tensorflow-connector_2.12-1.11.0.jar\")\\\n",
    "        .config(\"spark.driver.memory\", \"25g\")\\\n",
    "        .config(\"spark.driver.maxResultSize\", \"8g\")\\\n",
    "        .getOrCreate()"
   ]
  },
  {
   "cell_type": "code",
   "execution_count": 2,
   "metadata": {},
   "outputs": [
    {
     "name": "stdout",
     "output_type": "stream",
     "text": [
      "Found 6376 different characters, here are the top 200\n",
      "[' ' 'e' 't' 'a' 'o' 'n' 'i' 's' 'r' 'h' 'l' 'd' 'u' 'm' 'c' 'g' 'y' 'w'\n",
      " 'f' 'p' 'b' '.' 'I' ',' 'v' 'k' \"'\" '\\n' 'T' 'S' 'A' 'x' 'j' '\"' '(' ')'\n",
      " '-' 'W' 'H' '0' 'M' 'B' '1' 'O' 'E' 'C' '' 'N' '?' 'D' '2' 'P' 'z' 'F'\n",
      " 'R' 'L' 'q' '/' ':' 'G' '3' '5' 'Y' '!' '4' 'U' 'J' '6' 'K' 'V' '’' '8'\n",
      " '9' '7' ']' '[' ';' '>' '$' '%' 'X' '+' '&' 'Q' 'Z' '=' '”' '“' '*' '^'\n",
      " '~' '_' '#' 'é' '…' '–' '|' '@' 'ä' '<' '—' 'å' '‘' '£' 'ö' '\\\\' '•' 'α'\n",
      " '{' '}' 'í' 'á' 'ο' 'ó' '´' 'ι' 'ε' 'ü' 'τ' '°' 'ν' '€' 'о' 'ã' 'ă' 'à'\n",
      " 'а' 'ç' 'è' 'е' 'π' 'и' 'σ' 'ρ' 'μ' 'κ' 'н' 'т' 'υ' '͡' 'λ' 'ς' 'ø' 'æ'\n",
      " '`' 'ñ' 'η' 'с' '͜' 'ê' 'р' 'ل' '·' 'в' 'ú' 'ί' 'ά' 'ό' 'л' 'к' 'ð' 'š'\n",
      " 'д' 'ຈ' 'γ' 'ಠ' 'î' 'έ' 'м' 'δ' 'ß' 'ω' 'ا' 'ʖ' 'у' 'п' 'â' 'ș' '̶' 'č'\n",
      " 'θ' 'ï' '\\xad' '\\ufeff' 'χ' '█' '™' '×' 'ć' '༼' '༽' 'я' 'َ' 'ή' 'º' 'ț'\n",
      " 'い' '─' 'б' '§']\n"
     ]
    }
   ],
   "source": [
    "# What characters are we dealing with?\n",
    "reddit_sdf = spark.read.format(\"tfrecords\").load(\"/home/jzeimen/tensorflow_datasets/reddit/1.0.0/reddit*\")\n",
    "chars_sdf = reddit_sdf.withColumn(\"chars\", F.split(reddit_sdf.content, \"\"))\n",
    "chars_pdf = chars_sdf.select(F.explode('chars')).withColumnRenamed(\"col\",\"chars\").groupBy(\"chars\").count().toPandas()\n",
    "print(f\"Found {chars_pdf.shape[0]} different characters, here are the top 200\")\n",
    "print(chars_pdf.sort_values(\"count\", ascending=False).chars.values[:200])"
   ]
  },
  {
   "cell_type": "markdown",
   "metadata": {},
   "source": [
    "Based on this info, let's get rid of anything that isn't a letter or a number. Then we can also normalize the sentence endings so they are just periods. \n",
    "\n",
    "We can also normalize contractions to make things easier. For example, \"can't\" would be come \"can not\". From the data set analysis there is a wide range in lengths. For now lets make sure our summaries are between 20 and 100 tokens long, the content is between 100 and 1000 tokens long. We can also make sure that the summary is shorter than the actual content. "
   ]
  },
  {
   "cell_type": "code",
   "execution_count": 19,
   "metadata": {},
   "outputs": [],
   "source": [
    "def replace_contractions(x):\n",
    "    try:\n",
    "        return contractions.fix(x)\n",
    "    except:\n",
    "        return None\n",
    "\n",
    "fix_contractions = F.udf(lambda x: replace_contractions(x))\n",
    "\n",
    "def clean_column(sdf, input_col, output_col):\n",
    "    # Drop anything with null values, these rows are not helpful at all\n",
    "    out_sdf = sdf.na.drop()\n",
    "    # Rename the columns\n",
    "    out_sdf = out_sdf.withColumn(output_col, fix_contractions(out_sdf[input_col]))\n",
    "    out_sdf = out_sdf.na.drop()\n",
    "\n",
    "    # We'll just keep periods for sentence endings\n",
    "    out_sdf = out_sdf.withColumn(output_col, F.regexp_replace(output_col, r\"[!?]\", \".\"))\n",
    "    # Just Keep letters and numbers periods and commas\n",
    "    out_sdf = out_sdf.withColumn(output_col, F.regexp_replace(output_col, r\"[^A-Za-z0-9.,]+\", \" \"))\n",
    "    # Change everything to lower case\n",
    "    out_sdf = out_sdf.withColumn(output_col, F.lower(out_sdf[output_col]))\n",
    "    out_sdf = out_sdf.na.drop()\n",
    "    return out_sdf\n",
    "    \n",
    "def add_token_counts(sdf, col):\n",
    "    out_sdf = sdf.withColumn(col + \"_token_count\", F.size(F.split(sdf[col], R\"\\W\"))) \n",
    "    return out_sdf\n",
    "    \n",
    "def clean_df(sdf, content_col, summary_col):\n",
    "    final_sdf = clean_column(sdf, content_col, content_col)\n",
    "    final_sdf = clean_column(final_sdf, summary_col, summary_col)\n",
    "    final_sdf = final_sdf.withColumnRenamed(content_col, \"content\")\n",
    "    final_sdf = final_sdf.withColumnRenamed(summary_col, \"summary\")\n",
    "    final_sdf = add_token_counts(final_sdf, \"content\")\n",
    "    final_sdf = add_token_counts(final_sdf, \"summary\")\n",
    "    final_sdf = final_sdf.where(\"100 < content_token_count AND content_token_count < 1000\")\n",
    "    final_sdf = final_sdf.where(\"20 < summary_token_count AND summary_token_count < 100\")\n",
    "    final_sdf = final_sdf.where(\"content_token_count > summary_token_count\")\n",
    "    return final_sdf"
   ]
  },
  {
   "cell_type": "code",
   "execution_count": 4,
   "metadata": {},
   "outputs": [
    {
     "name": "stdout",
     "output_type": "stream",
     "text": [
      "Working on cnn/dailymail dataset...\n",
      "Count before cleaning 311971\n",
      "Count after cleaning 223763\n",
      "CPU times: user 30.2 ms, sys: 12 ms, total: 42.2 ms\n",
      "Wall time: 3min 54s\n"
     ]
    }
   ],
   "source": [
    "%%time\n",
    "print(\"Working on cnn/dailymail dataset...\")\n",
    "news_sdf = spark.read.format(\"tfrecords\").load(\"/home/jzeimen/tensorflow_datasets/cnn_dailymail/plain_text/3.0.0/cnn*\")\n",
    "print(f\"Count before cleaning {news_sdf.count()}\")\n",
    "news_sdf = clean_df(news_sdf, \"article\", \"highlights\").cache()\n",
    "news_sdf.write.format(\"tfrecords\").save(\"clean/news\")\n",
    "print(f\"Count after cleaning {news_sdf.count()}\")"
   ]
  },
  {
   "cell_type": "code",
   "execution_count": 14,
   "metadata": {},
   "outputs": [
    {
     "name": "stdout",
     "output_type": "stream",
     "text": [
      "Working on reddit dataset...\n",
      "CPU times: user 2 ms, sys: 7.96 ms, total: 9.96 ms\n",
      "Wall time: 1min 1s\n"
     ]
    }
   ],
   "source": [
    "%%time\n",
    "print(\"Working on reddit dataset...\")\n",
    "reddit_sdf = spark.read.format(\"tfrecords\").load(\"/home/jzeimen/tensorflow_datasets/reddit/1.0.0/reddit*\").cache()"
   ]
  },
  {
   "cell_type": "code",
   "execution_count": 21,
   "metadata": {},
   "outputs": [
    {
     "name": "stdout",
     "output_type": "stream",
     "text": [
      "Count before cleaning 3848330\n",
      "Count after cleaning 1584283\n",
      "CPU times: user 126 ms, sys: 49.7 ms, total: 175 ms\n",
      "Wall time: 21min 9s\n"
     ]
    }
   ],
   "source": [
    "%%time\n",
    "\n",
    "print(f\"Count before cleaning {reddit_sdf.count()}\")\n",
    "reddit_sdf = clean_df(reddit_sdf, \"content\", \"summary\").cache()\n",
    "reddit_sdf = reddit_sdf.select(\"content\", \"summary\", \"content_token_count\", \"summary_token_count\")\n",
    "#reddit_sdf.write.format(\"tfrecords\").save(\"clean/reddit\")\n",
    "print(f\"Count after cleaning {reddit_sdf.count()}\")"
   ]
  },
  {
   "cell_type": "code",
   "execution_count": 6,
   "metadata": {},
   "outputs": [
    {
     "name": "stdout",
     "output_type": "stream",
     "text": [
      "Working on wikihow dataset...\n",
      "Count before cleaning 214294\n",
      "Count after cleaning 115251\n",
      "CPU times: user 19.3 ms, sys: 14.2 ms, total: 33.6 ms\n",
      "Wall time: 3min 5s\n"
     ]
    }
   ],
   "source": [
    "%%time\n",
    "print(\"Working on wikihow dataset...\")\n",
    "wiki_sdf = spark.read.csv(\"WikiHow-Dataset/wikihowAll.csv\", header=True, multiLine=True, escape=\"\\\"\").na.drop()\n",
    "print(f\"Count before cleaning {wiki_sdf.count()}\")\n",
    "wiki_sdf = clean_df(wiki_sdf, \"text\", \"headline\").cache()\n",
    "wiki_sdf.write.format(\"tfrecords\").save(\"clean/wikihow\")\n",
    "print(f\"Count after cleaning {wiki_sdf.count()}\")"
   ]
  },
  {
   "cell_type": "code",
   "execution_count": 8,
   "metadata": {},
   "outputs": [
    {
     "data": {
      "text/plain": [
       "115251"
      ]
     },
     "execution_count": 8,
     "metadata": {},
     "output_type": "execute_result"
    }
   ],
   "source": [
    "wiki_sdf.count()"
   ]
  },
  {
   "cell_type": "markdown",
   "metadata": {},
   "source": [
    "Here's some examples after cleaning"
   ]
  },
  {
   "cell_type": "code",
   "execution_count": 19,
   "metadata": {},
   "outputs": [],
   "source": [
    "reddit_clean = spark.read.format(\"tfrecords\").load(\"/home/jzeimen/Dropbox/springboard/springboard-capstone/data/clean/reddit/par*\")"
   ]
  },
  {
   "cell_type": "code",
   "execution_count": 26,
   "metadata": {},
   "outputs": [
    {
     "data": {
      "text/html": [
       "<div>\n",
       "<style scoped>\n",
       "    .dataframe tbody tr th:only-of-type {\n",
       "        vertical-align: middle;\n",
       "    }\n",
       "\n",
       "    .dataframe tbody tr th {\n",
       "        vertical-align: top;\n",
       "    }\n",
       "\n",
       "    .dataframe thead th {\n",
       "        text-align: right;\n",
       "    }\n",
       "</style>\n",
       "<table border=\"1\" class=\"dataframe\">\n",
       "  <thead>\n",
       "    <tr style=\"text-align: right;\">\n",
       "      <th></th>\n",
       "      <th>content</th>\n",
       "      <th>summary</th>\n",
       "    </tr>\n",
       "  </thead>\n",
       "  <tbody>\n",
       "    <tr>\n",
       "      <th>20</th>\n",
       "      <td>football is the main driver of college sports these days. i do not like that fact as i am not a big cfb fan but i am not stupid enough to deny what is in front of me. i am also one who think the best conferences fit geographically. that being said, these are the ones i think are better and worse from a football standpoint. best any team that moved to a bcs conference and did not miss a beat. i would say atm and nebraska are the only two good moves right now. wvu got exposed for their lack of defense. missouri is in misery. colorado is terrible and utah got exposed for not feasting on mountain west teams year in and year out. worst every team in the big east conference. for multiple reasons. it is the only major conference to lose more than 3 teams to other conferences in the bcs era. it lost 6, 7 if you count tcu which never played a big east down. it has the perception bestowed on it by national media as being undeserving of major conference status despite it is bowl record since 2006 when the new teams came in. the acc has a worse bcs bowl record than the big east and i believe even has a worse bowl record than the big east overall since that time. if it is not worse, it is certainly close. since the big east is being perceived as being weak, the top teams in the big east louisville, cincinnati, rutgers are automatically seen as weak despite that not necessarily being true. yes, i know that mac teams have taken out uc and ru this year. mac teams have also taken out some b1g teams as well, but those teams are not being seen as being weak. boise and sdsu joined up for bcs exposure. in reality neither team should be in a conference based in rhode island and that exposure they wanted through the big east goes away in 2014 when the big east seen as being a weak little sister gets no automatic bid to the premier bowls the sec, b12, b1g, pac 12, and acc which should not be automatically given a seat statistically they do not deserve if the big east does not deserve a seat are getting. houston, smu, memphis, temple, and ucf have the same problem. plus navy is getting in in a few years time, and although it does not matter to them, they will not get any bcs bowl exposure at all. notre dame was in the conference for everything but football but never joined the big east in football. what i find very insulting is that they allegedly agreed to play 3 big east teams but they were typically traditional rivals like pitt, syracuse and then rutgers, uconn or south florida, the latter in 2 year deals. i know usf was a one shot deal but did not and then did not play wvu, uc, or uofl where cincinnati and louisville have significant catholic populations. now notre dame has agreed to play 5 acc teams a year. that seems like a gigantic middle finger to the conference that agreed to take their non football teams out of the mid continent conference to a larger stage for 15 years. the media does not deem the big east relevant and the big east has certainly obliged that decision by not shoring up football after boston college and miami wanted to leave vt i think got thrusted on the acc and added additional basketball schools for whatever reason. truth be told, i want out. i really do not care if the big east would be an easy conference to win. big east decision making essentially damned my school back to the perception of mediocrity in football and we look to always be on the outside looking in. give me the big 12. west virginia will be happy and if our football coach leaves, it will not be because of the glass ceiling being in the big east has not placed on us. basketball we are good anywhere.</td>\n",
       "      <td>winners atm, nebraska losers current and future big east, plus fuck the acc, syracuse and pitt, get louisville out before being in the big east kills louisville football.</td>\n",
       "    </tr>\n",
       "    <tr>\n",
       "      <th>21</th>\n",
       "      <td>my mom had me when she was 16, nearly 17. my dad was nearly 18 at the time. i was born a month premature, 8 days before her birthday, 3 days before his. life was alright, tough at times though, now that i look back on it though. i was born in a small community in newfoundland, canada. our family did not have much, and just after i was born, my dad joined the army so we would always have food on the table and a roof over our heads. we moved to a military base in ontario, which is where my dad was posted for a awhile, and while my dad trained with the army, mom raised me nearly single handedly for about 3 years collectively, not consecutively . dad went to kosovo during the 90 s, and bosnia as well, so he was gone for about 2 years, plus training travel time. after my father and my uncle dad s best friend, not really an uncle, but my brother and i call him that anyway got back from overseas, dad was always around, and at some point he was fuckin around, spinning me around his waist, like any 20 year old, immature dad would do, and before he knew it thunk head on the wall. uncle went white as a sheet and high tailed it out of there. from that point on, dad was not trusted alone with either myself or my brother. anyway, life was alright, the stress of dad being a combat engineer made mom really irritable for a long time, but eventually, when i was about 10, dad remustered and became a firefighter, thus providing better for the family, and we had a little more financial wiggle room. mom and dad used to argue a lot about money or rather, lack thereof , things would be thrown, doors slammed, i think at one point dad had actually packed a few bags and went to stay with a friend for a week or two, and then things cooled down and he came back. a few years after that, he got out of the military, and we have been living in new brunswick since then, enjoying life and just making the most of a less stressful environment, and more financial stability. parents have been together for... i do not know how long. i think around 21 years, and they are still happily married, no matter what either of them say about the other getting on their nerves.</td>\n",
       "      <td>poor newfy at birth, got dropped on head by military dad, dad smartened up, got a better job, now everything is fine and dandy.</td>\n",
       "    </tr>\n",
       "  </tbody>\n",
       "</table>\n",
       "</div>"
      ],
      "text/plain": [
       "                                                                                                                                                                                                                                                                                                                                                                                                                                                                                                                                                                                                                                                                                                                                                                                                                                                                                                                                                                                                                                                                                                                                                                                                                                                                                                                                                                                                                                                                                                                                                                                                                                                                                                                                                                                                                                                                                                                                                                                                                                                                                                                                                                                                                                                                                                                                                                                                                                                                                                                                                                                                                                                                                                                                                                                                                                                                                                                                                                                                                                                                                                                                                                                                                                                                                                                                                                                                                                                                                                                                                                                                                                                                                                                                                                                content  \\\n",
       "20  football is the main driver of college sports these days. i do not like that fact as i am not a big cfb fan but i am not stupid enough to deny what is in front of me. i am also one who think the best conferences fit geographically. that being said, these are the ones i think are better and worse from a football standpoint. best any team that moved to a bcs conference and did not miss a beat. i would say atm and nebraska are the only two good moves right now. wvu got exposed for their lack of defense. missouri is in misery. colorado is terrible and utah got exposed for not feasting on mountain west teams year in and year out. worst every team in the big east conference. for multiple reasons. it is the only major conference to lose more than 3 teams to other conferences in the bcs era. it lost 6, 7 if you count tcu which never played a big east down. it has the perception bestowed on it by national media as being undeserving of major conference status despite it is bowl record since 2006 when the new teams came in. the acc has a worse bcs bowl record than the big east and i believe even has a worse bowl record than the big east overall since that time. if it is not worse, it is certainly close. since the big east is being perceived as being weak, the top teams in the big east louisville, cincinnati, rutgers are automatically seen as weak despite that not necessarily being true. yes, i know that mac teams have taken out uc and ru this year. mac teams have also taken out some b1g teams as well, but those teams are not being seen as being weak. boise and sdsu joined up for bcs exposure. in reality neither team should be in a conference based in rhode island and that exposure they wanted through the big east goes away in 2014 when the big east seen as being a weak little sister gets no automatic bid to the premier bowls the sec, b12, b1g, pac 12, and acc which should not be automatically given a seat statistically they do not deserve if the big east does not deserve a seat are getting. houston, smu, memphis, temple, and ucf have the same problem. plus navy is getting in in a few years time, and although it does not matter to them, they will not get any bcs bowl exposure at all. notre dame was in the conference for everything but football but never joined the big east in football. what i find very insulting is that they allegedly agreed to play 3 big east teams but they were typically traditional rivals like pitt, syracuse and then rutgers, uconn or south florida, the latter in 2 year deals. i know usf was a one shot deal but did not and then did not play wvu, uc, or uofl where cincinnati and louisville have significant catholic populations. now notre dame has agreed to play 5 acc teams a year. that seems like a gigantic middle finger to the conference that agreed to take their non football teams out of the mid continent conference to a larger stage for 15 years. the media does not deem the big east relevant and the big east has certainly obliged that decision by not shoring up football after boston college and miami wanted to leave vt i think got thrusted on the acc and added additional basketball schools for whatever reason. truth be told, i want out. i really do not care if the big east would be an easy conference to win. big east decision making essentially damned my school back to the perception of mediocrity in football and we look to always be on the outside looking in. give me the big 12. west virginia will be happy and if our football coach leaves, it will not be because of the glass ceiling being in the big east has not placed on us. basketball we are good anywhere.   \n",
       "21                                                                                                                                                                                                                                                                                                                                                                                                                                                                                                                                                                                                                                                                                                                                                                                                                                                                                                                                                                                                                                                                                                                                                                                                                                                                                                                                                                                                                                                                                                                                 my mom had me when she was 16, nearly 17. my dad was nearly 18 at the time. i was born a month premature, 8 days before her birthday, 3 days before his. life was alright, tough at times though, now that i look back on it though. i was born in a small community in newfoundland, canada. our family did not have much, and just after i was born, my dad joined the army so we would always have food on the table and a roof over our heads. we moved to a military base in ontario, which is where my dad was posted for a awhile, and while my dad trained with the army, mom raised me nearly single handedly for about 3 years collectively, not consecutively . dad went to kosovo during the 90 s, and bosnia as well, so he was gone for about 2 years, plus training travel time. after my father and my uncle dad s best friend, not really an uncle, but my brother and i call him that anyway got back from overseas, dad was always around, and at some point he was fuckin around, spinning me around his waist, like any 20 year old, immature dad would do, and before he knew it thunk head on the wall. uncle went white as a sheet and high tailed it out of there. from that point on, dad was not trusted alone with either myself or my brother. anyway, life was alright, the stress of dad being a combat engineer made mom really irritable for a long time, but eventually, when i was about 10, dad remustered and became a firefighter, thus providing better for the family, and we had a little more financial wiggle room. mom and dad used to argue a lot about money or rather, lack thereof , things would be thrown, doors slammed, i think at one point dad had actually packed a few bags and went to stay with a friend for a week or two, and then things cooled down and he came back. a few years after that, he got out of the military, and we have been living in new brunswick since then, enjoying life and just making the most of a less stressful environment, and more financial stability. parents have been together for... i do not know how long. i think around 21 years, and they are still happily married, no matter what either of them say about the other getting on their nerves.   \n",
       "\n",
       "                                                                                                                                                                       summary  \n",
       "20  winners atm, nebraska losers current and future big east, plus fuck the acc, syracuse and pitt, get louisville out before being in the big east kills louisville football.  \n",
       "21                                             poor newfy at birth, got dropped on head by military dad, dad smartened up, got a better job, now everything is fine and dandy.  "
      ]
     },
     "execution_count": 26,
     "metadata": {},
     "output_type": "execute_result"
    }
   ],
   "source": [
    "pd.set_option(\"display.max_colwidth\", None)\n",
    "reddit_clean.limit(100).toPandas()[20:22][[\"content\", \"summary\"]]"
   ]
  },
  {
   "cell_type": "code",
   "execution_count": null,
   "metadata": {},
   "outputs": [],
   "source": []
  }
 ],
 "metadata": {
  "kernelspec": {
   "display_name": "Python 3",
   "language": "python",
   "name": "python3"
  },
  "language_info": {
   "codemirror_mode": {
    "name": "ipython",
    "version": 3
   },
   "file_extension": ".py",
   "mimetype": "text/x-python",
   "name": "python",
   "nbconvert_exporter": "python",
   "pygments_lexer": "ipython3",
   "version": "3.6.12"
  }
 },
 "nbformat": 4,
 "nbformat_minor": 4
}
