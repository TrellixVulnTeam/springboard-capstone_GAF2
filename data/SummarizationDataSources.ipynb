{
 "cells": [
  {
   "cell_type": "markdown",
   "metadata": {},
   "source": [
    "# Data Sources for Text Summarization\n",
    "\n",
    "In this notebook I look at 3 different datasets commonliy referenced for text summarization problems. \n",
    "\n",
    "1. CNN/Daily Mail (Over 300,000 news articles)\n",
    "1. Reddit TL;DR (Over 3,800,000 Reddit posts)\n",
    "1. Wikihow (Over 200,000 articles)\n",
    "\n",
    "The CNN/Daily Mail dataset seems to be one of the most popular data sets for text summarization problems and is frequently used as a benchmark dataset. The Reddit TL;DR datset also looks attractive due to its size. There is potential to find ways to filter out lower quality summaries to then improve the text summarization problem. "
   ]
  },
  {
   "cell_type": "markdown",
   "metadata": {},
   "source": [
    "## CNN/Daily Mail\n",
    "\n",
    "[This link](https://cs.nyu.edu/~kcho/DMQA/) is a good starting point if you want to download the data. It is also avaliable via Tensorflow Datasets [here](https://github.com/abisee/cnn-dailymail). This dataset is one of the most commonly referenced datasets when it comes to text summarization problems. \n",
    "\n",
    "The idea behind this dataset is that there are news articles from CNN and Daily Mail, within the news articles there are highlights. These highlights are parts of the article that are displayed more prominently and generally have important details from the article. When you just look at these highlights it can often look like a summary of the article.   \n",
    "\n",
    "The Tensorflow Dataset version already has the article and summary separated and it is easier to download and extract programatically.\n",
    "\n",
    "There are over 311,000 articles with some sort of generated summary in this dataset. "
   ]
  },
  {
   "cell_type": "code",
   "execution_count": 1,
   "metadata": {},
   "outputs": [],
   "source": [
    "import tensorflow_datasets as tfds\n",
    "import pandas as pd\n",
    "import matplotlib\n",
    "%config InlineBackend.figure_format = 'retina'\n",
    "\n",
    "news, info = tfds.load('cnn_dailymail', with_info=True, shuffle_files=True)"
   ]
  },
  {
   "cell_type": "code",
   "execution_count": 2,
   "metadata": {},
   "outputs": [
    {
     "data": {
      "text/plain": [
       "tfds.core.DatasetInfo(\n",
       "    name='cnn_dailymail',\n",
       "    version=3.0.0,\n",
       "    description='CNN/DailyMail non-anonymized summarization dataset.\n",
       "\n",
       "There are two features:\n",
       "  - article: text of news article, used as the document to be summarized\n",
       "  - highlights: joined text of highlights with <s> and </s> around each\n",
       "    highlight, which is the target summary',\n",
       "    homepage='https://github.com/abisee/cnn-dailymail',\n",
       "    features=FeaturesDict({\n",
       "        'article': Text(shape=(), dtype=tf.string),\n",
       "        'highlights': Text(shape=(), dtype=tf.string),\n",
       "    }),\n",
       "    total_num_examples=311971,\n",
       "    splits={\n",
       "        'test': 11490,\n",
       "        'train': 287113,\n",
       "        'validation': 13368,\n",
       "    },\n",
       "    supervised_keys=('article', 'highlights'),\n",
       "    citation=\"\"\"@article{DBLP:journals/corr/SeeLM17,\n",
       "      author    = {Abigail See and\n",
       "                   Peter J. Liu and\n",
       "                   Christopher D. Manning},\n",
       "      title     = {Get To The Point: Summarization with Pointer-Generator Networks},\n",
       "      journal   = {CoRR},\n",
       "      volume    = {abs/1704.04368},\n",
       "      year      = {2017},\n",
       "      url       = {http://arxiv.org/abs/1704.04368},\n",
       "      archivePrefix = {arXiv},\n",
       "      eprint    = {1704.04368},\n",
       "      timestamp = {Mon, 13 Aug 2018 16:46:08 +0200},\n",
       "      biburl    = {https://dblp.org/rec/bib/journals/corr/SeeLM17},\n",
       "      bibsource = {dblp computer science bibliography, https://dblp.org}\n",
       "    }\n",
       "    \n",
       "    @inproceedings{hermann2015teaching,\n",
       "      title={Teaching machines to read and comprehend},\n",
       "      author={Hermann, Karl Moritz and Kocisky, Tomas and Grefenstette, Edward and Espeholt, Lasse and Kay, Will and Suleyman, Mustafa and Blunsom, Phil},\n",
       "      booktitle={Advances in neural information processing systems},\n",
       "      pages={1693--1701},\n",
       "      year={2015}\n",
       "    }\"\"\",\n",
       "    redistribution_info=,\n",
       ")"
      ]
     },
     "execution_count": 2,
     "metadata": {},
     "output_type": "execute_result"
    }
   ],
   "source": [
    "info"
   ]
  },
  {
   "cell_type": "code",
   "execution_count": 3,
   "metadata": {},
   "outputs": [
    {
     "data": {
      "text/html": [
       "<div>\n",
       "<style scoped>\n",
       "    .dataframe tbody tr th:only-of-type {\n",
       "        vertical-align: middle;\n",
       "    }\n",
       "\n",
       "    .dataframe tbody tr th {\n",
       "        vertical-align: top;\n",
       "    }\n",
       "\n",
       "    .dataframe thead th {\n",
       "        text-align: right;\n",
       "    }\n",
       "</style>\n",
       "<table border=\"1\" class=\"dataframe\">\n",
       "  <thead>\n",
       "    <tr style=\"text-align: right;\">\n",
       "      <th></th>\n",
       "      <th>article</th>\n",
       "      <th>highlights</th>\n",
       "    </tr>\n",
       "  </thead>\n",
       "  <tbody>\n",
       "    <tr>\n",
       "      <th>0</th>\n",
       "      <td>QPR chairman Tony Fernandes has insisted his club can afford not to win promotion to the Premier League, despite debts of £177.1 million. Rangers face Derby County in the Championship play-off final at Wembley on May 24, with Harry Redknapp's side hoping to secure the £120m pay packet of Premier League promotion. But, should QPR return to the top tier at the first attempt, they could be forced to pay out more than half of that in fines under the Football League's Financial Fair Play regulations. We're ready: Queens Park Rangers chairman Tony Fernandes says his club doesn't have to win promotion . Off to Wembley: Rangers won their way through to the play-off final after extra-time against Wigan . Based on last year's accounts, Rangers would have to pay £62.1m if they are promoted because their £65.4m losses were so far in excess of the £8m allowed by the Football League. Should Redknapp's side stay in the Championship, however, they would be subjected to a transfer embargo. QPR have tried to reduce their wage bill by selling high-earners such as Christopher Samba and sending the likes of Loic Remy and Adel Taarabt out on loan. Improved: Businessman Fernandes says QPR are in a better financial position than two years ago . Winner: QPR striker Charlie Austin finds the net to snatch the victory in the play-off second leg . Fernandes told talkSPORT: 'Yes, we can (afford not to go up). I'm an accountant by background - although I may not seem it! 'We've told the fans, whether we go up or we don't, we're here for the long term. 'We know what culture we want at the club and we will continue the journey whether we're in the Championship or the Premier League. 'We are a much smarter, much wiser group of people than we were two years ago.' Relief: QPR's bid to reduce their wage bills included off-loading players such  as Christopher Samba . Major break: Loic Remy (right) went on loan to Newcastle and scored 14 goals for Alan Pardew's side .</td>\n",
       "      <td>Queens Park Rangers have debts of £177.1 million .\\nThe club is also set to be hit with fines under Financial Fair Play rules .\\nBut chairman Tony Fernandes says they can survive without winning promotion to the Premier League this season .\\nQPR take on Derby in the play-off final at Wembley on May 24 .</td>\n",
       "    </tr>\n",
       "    <tr>\n",
       "      <th>1</th>\n",
       "      <td>By . Daily Mail Reporter . UPDATED: . 09:53 EST, 12 January 2012 . A motorist was stunned when he discovered double yellow lines had been painted underneath his car while it was parked - and then given a ticket. Flecks of yellow paint were even sprayed on the bumper of Patrick McCrystal's car as the lines were painted under the front of it in Kedleston Street, Derby. The 49-year-old had parked his Ford Fiesta in the street near to a Co-operative store and a petrol station, where he works, for three years. Stunned: Patrick McCrystal with his Ford Fiesta, which was given a ticket after council workmen had sprayed yellow lines under the car while it was parked legally . When he parked for his 2pm shift, he noticed new yellow lines had been painted across a housing block entrance. But there was a gap between those lines and existing ones in the street, so Mr McCrystal parked there, in his usual spot. Hours later, a colleague on his dinner break saw that extra lines had been painted below the front of Mr McCrystal's car. And, when he went out, Mr McCrystal discovered he had been given a parking ticket. Tell-tale sign: The workmen left flecks of paint on the bumper of the car as they sprayed underneath . He said: 'There is even paint on my front bumper where they've caught it reaching under to paint the lines. 'There were no lines there when I parked. I can't believe they've done it.' The new lines extended from existing double yellow lines which had previously ended about two feet from Mr McCrystal's front bumper. Apology: The ticket left on Mr McCrystal's window. Derby City Council blamed a breakdown in communication and has now revoked the £70 fine . Now a Derby City Council official has said the £70 fine had been issued in error and would be revoked. Mr McCrystal, from Derby, said notices had been put up several weeks ago saying parking restrictions would be introduced but they did not say when. He said: 'If they were going to paint yellow lines then they should have put up cones to stop people parking. 'When I pulled up, I saw the gap between the old lines and the new ones and thought it was okay to park there. Nothing gave me the impression I couldn't.' A passer-by said council staff had been angered they could not paint the lines because of the parked car. David Gartside, head of traffic and transport at the authority, said: 'We can confirm that lining was painted on Kedleston Street this afternoon after the vehicle had parked and that a parking ticket was issued to the vehicle in error. 'It appears that there was a communication breakdown between our contractors undertaking the lining work and our enforcement officers. 'The ticket will be revoked and we apologise for any inconvenience caused.'</td>\n",
       "      <td>They even sprayed paint on his Ford Fiesta in calamitous giveaway .</td>\n",
       "    </tr>\n",
       "  </tbody>\n",
       "</table>\n",
       "</div>"
      ],
      "text/plain": [
       "                                                                                                                                                                                                                                                                                                                                                                                                                                                                                                                                                                                                                                                                                                                                                                                                                                                                                                                                                                                                                                                                                                                                                                                                                                                                                                                                                                                                                                                                                                                                                                                                                                                                                                                                                                                                                                                                                                                                                                                                                                                                                                                                                                                                                                                                                                                                                                                                                                                                                                                                                                                                                                                                                                                                                                                                                                                    article  \\\n",
       "0                                                                                                                                                                                                                                                                                                                                                                                                                                                                                                                                                                                                                                                                                                                                                                                                               QPR chairman Tony Fernandes has insisted his club can afford not to win promotion to the Premier League, despite debts of £177.1 million. Rangers face Derby County in the Championship play-off final at Wembley on May 24, with Harry Redknapp's side hoping to secure the £120m pay packet of Premier League promotion. But, should QPR return to the top tier at the first attempt, they could be forced to pay out more than half of that in fines under the Football League's Financial Fair Play regulations. We're ready: Queens Park Rangers chairman Tony Fernandes says his club doesn't have to win promotion . Off to Wembley: Rangers won their way through to the play-off final after extra-time against Wigan . Based on last year's accounts, Rangers would have to pay £62.1m if they are promoted because their £65.4m losses were so far in excess of the £8m allowed by the Football League. Should Redknapp's side stay in the Championship, however, they would be subjected to a transfer embargo. QPR have tried to reduce their wage bill by selling high-earners such as Christopher Samba and sending the likes of Loic Remy and Adel Taarabt out on loan. Improved: Businessman Fernandes says QPR are in a better financial position than two years ago . Winner: QPR striker Charlie Austin finds the net to snatch the victory in the play-off second leg . Fernandes told talkSPORT: 'Yes, we can (afford not to go up). I'm an accountant by background - although I may not seem it! 'We've told the fans, whether we go up or we don't, we're here for the long term. 'We know what culture we want at the club and we will continue the journey whether we're in the Championship or the Premier League. 'We are a much smarter, much wiser group of people than we were two years ago.' Relief: QPR's bid to reduce their wage bills included off-loading players such  as Christopher Samba . Major break: Loic Remy (right) went on loan to Newcastle and scored 14 goals for Alan Pardew's side .   \n",
       "1  By . Daily Mail Reporter . UPDATED: . 09:53 EST, 12 January 2012 . A motorist was stunned when he discovered double yellow lines had been painted underneath his car while it was parked - and then given a ticket. Flecks of yellow paint were even sprayed on the bumper of Patrick McCrystal's car as the lines were painted under the front of it in Kedleston Street, Derby. The 49-year-old had parked his Ford Fiesta in the street near to a Co-operative store and a petrol station, where he works, for three years. Stunned: Patrick McCrystal with his Ford Fiesta, which was given a ticket after council workmen had sprayed yellow lines under the car while it was parked legally . When he parked for his 2pm shift, he noticed new yellow lines had been painted across a housing block entrance. But there was a gap between those lines and existing ones in the street, so Mr McCrystal parked there, in his usual spot. Hours later, a colleague on his dinner break saw that extra lines had been painted below the front of Mr McCrystal's car. And, when he went out, Mr McCrystal discovered he had been given a parking ticket. Tell-tale sign: The workmen left flecks of paint on the bumper of the car as they sprayed underneath . He said: 'There is even paint on my front bumper where they've caught it reaching under to paint the lines. 'There were no lines there when I parked. I can't believe they've done it.' The new lines extended from existing double yellow lines which had previously ended about two feet from Mr McCrystal's front bumper. Apology: The ticket left on Mr McCrystal's window. Derby City Council blamed a breakdown in communication and has now revoked the £70 fine . Now a Derby City Council official has said the £70 fine had been issued in error and would be revoked. Mr McCrystal, from Derby, said notices had been put up several weeks ago saying parking restrictions would be introduced but they did not say when. He said: 'If they were going to paint yellow lines then they should have put up cones to stop people parking. 'When I pulled up, I saw the gap between the old lines and the new ones and thought it was okay to park there. Nothing gave me the impression I couldn't.' A passer-by said council staff had been angered they could not paint the lines because of the parked car. David Gartside, head of traffic and transport at the authority, said: 'We can confirm that lining was painted on Kedleston Street this afternoon after the vehicle had parked and that a parking ticket was issued to the vehicle in error. 'It appears that there was a communication breakdown between our contractors undertaking the lining work and our enforcement officers. 'The ticket will be revoked and we apologise for any inconvenience caused.'   \n",
       "\n",
       "                                                                                                                                                                                                                                                                                                         highlights  \n",
       "0  Queens Park Rangers have debts of £177.1 million .\\nThe club is also set to be hit with fines under Financial Fair Play rules .\\nBut chairman Tony Fernandes says they can survive without winning promotion to the Premier League this season .\\nQPR take on Derby in the play-off final at Wembley on May 24 .  \n",
       "1                                                                                                                                                                                                                                               They even sprayed paint on his Ford Fiesta in calamitous giveaway .  "
      ]
     },
     "execution_count": 3,
     "metadata": {},
     "output_type": "execute_result"
    }
   ],
   "source": [
    "def convert_tensors_strings(df):\n",
    "    for c in df.columns:\n",
    "        df[c] = df[c].map(lambda x: x.numpy().decode())\n",
    "\n",
    "news_train  = news['train'].take(2)\n",
    "news_df = pd.DataFrame(news_train)\n",
    "convert_tensors_strings(news_df)\n",
    "pd.set_option('display.max_colwidth', None)\n",
    "news_df"
   ]
  },
  {
   "cell_type": "markdown",
   "metadata": {},
   "source": [
    "## Next let's see how much data we have here. "
   ]
  },
  {
   "cell_type": "code",
   "execution_count": 4,
   "metadata": {},
   "outputs": [],
   "source": [
    "from pyspark.ml.feature import RegexTokenizer\n",
    "from pyspark.sql import functions as F\n",
    "import os\n",
    "os.environ['PYSPARK_SUBMIT_ARGS'] = '--jars /home/jzeimen/dev/ecosystem/spark/spark-tensorflow-connector/target/spark-tensorflow-connector_2.12-1.11.0.jar pyspark-shell'\n",
    "from pyspark.sql.functions import lower, col\n",
    "import pyspark\n",
    "from pyspark.sql import SparkSession\n",
    "spark = SparkSession.builder.appName(\"Summarization\") \\\n",
    "        .master(\"local[*]\") \\\n",
    "        .config(\"spark.jars\", \"/home/jzeimen/dev/ecosystem/spark/spark-tensorflow-connector/target/spark-tensorflow-connector_2.12-1.11.0.jar\")\\\n",
    "        .config(\"spark.driver.memory\", \"25g\")\\\n",
    "        .getOrCreate()"
   ]
  },
  {
   "cell_type": "code",
   "execution_count": 5,
   "metadata": {},
   "outputs": [],
   "source": [
    "news_sdf = spark.read.format(\"tfrecords\").load(\"/home/jzeimen/tensorflow_datasets/cnn_dailymail/plain_text/3.0.0/cnn*\")"
   ]
  },
  {
   "cell_type": "code",
   "execution_count": 6,
   "metadata": {},
   "outputs": [
    {
     "data": {
      "text/plain": [
       "311971"
      ]
     },
     "execution_count": 6,
     "metadata": {},
     "output_type": "execute_result"
    }
   ],
   "source": [
    "news_sdf.count()"
   ]
  },
  {
   "cell_type": "code",
   "execution_count": 7,
   "metadata": {},
   "outputs": [],
   "source": [
    "def add_token_counts(sdf, content_column, summary_column):\n",
    "    content_tokenizer = RegexTokenizer(inputCol=content_column, outputCol=\"content_tokens\", pattern='\\\\W')\n",
    "    summary_tokenizer = RegexTokenizer(inputCol=summary_column, outputCol=\"summary_tokens\", pattern='\\\\W')\n",
    "    sdf = content_tokenizer.transform(sdf)\n",
    "    sdf = summary_tokenizer.transform(sdf)\n",
    "    sdf = sdf.withColumn(\"content_token_count\", F.size(sdf.content_tokens))\n",
    "    sdf = sdf.withColumn(\"summary_token_count\", F.size(sdf.summary_tokens))\n",
    "    return sdf"
   ]
  },
  {
   "cell_type": "code",
   "execution_count": 8,
   "metadata": {},
   "outputs": [],
   "source": [
    "news_sdf = add_token_counts(news_sdf, \"article\", \"highlights\")"
   ]
  },
  {
   "cell_type": "code",
   "execution_count": 9,
   "metadata": {},
   "outputs": [],
   "source": [
    "news_pdf = news_sdf.select(\"content_token_count\", \"summary_token_count\").toPandas()"
   ]
  },
  {
   "cell_type": "code",
   "execution_count": 10,
   "metadata": {},
   "outputs": [
    {
     "data": {
      "text/html": [
       "<div>\n",
       "<style scoped>\n",
       "    .dataframe tbody tr th:only-of-type {\n",
       "        vertical-align: middle;\n",
       "    }\n",
       "\n",
       "    .dataframe tbody tr th {\n",
       "        vertical-align: top;\n",
       "    }\n",
       "\n",
       "    .dataframe thead th {\n",
       "        text-align: right;\n",
       "    }\n",
       "</style>\n",
       "<table border=\"1\" class=\"dataframe\">\n",
       "  <thead>\n",
       "    <tr style=\"text-align: right;\">\n",
       "      <th></th>\n",
       "      <th>content_token_count</th>\n",
       "      <th>summary_token_count</th>\n",
       "    </tr>\n",
       "  </thead>\n",
       "  <tbody>\n",
       "    <tr>\n",
       "      <th>count</th>\n",
       "      <td>311971.000000</td>\n",
       "      <td>311971.000000</td>\n",
       "    </tr>\n",
       "    <tr>\n",
       "      <th>mean</th>\n",
       "      <td>697.847229</td>\n",
       "      <td>49.927230</td>\n",
       "    </tr>\n",
       "    <tr>\n",
       "      <th>std</th>\n",
       "      <td>339.476293</td>\n",
       "      <td>21.159507</td>\n",
       "    </tr>\n",
       "    <tr>\n",
       "      <th>min</th>\n",
       "      <td>8.000000</td>\n",
       "      <td>3.000000</td>\n",
       "    </tr>\n",
       "    <tr>\n",
       "      <th>25%</th>\n",
       "      <td>446.000000</td>\n",
       "      <td>37.000000</td>\n",
       "    </tr>\n",
       "    <tr>\n",
       "      <th>50%</th>\n",
       "      <td>636.000000</td>\n",
       "      <td>47.000000</td>\n",
       "    </tr>\n",
       "    <tr>\n",
       "      <th>75%</th>\n",
       "      <td>885.000000</td>\n",
       "      <td>58.000000</td>\n",
       "    </tr>\n",
       "    <tr>\n",
       "      <th>max</th>\n",
       "      <td>2209.000000</td>\n",
       "      <td>1476.000000</td>\n",
       "    </tr>\n",
       "  </tbody>\n",
       "</table>\n",
       "</div>"
      ],
      "text/plain": [
       "       content_token_count  summary_token_count\n",
       "count        311971.000000        311971.000000\n",
       "mean            697.847229            49.927230\n",
       "std             339.476293            21.159507\n",
       "min               8.000000             3.000000\n",
       "25%             446.000000            37.000000\n",
       "50%             636.000000            47.000000\n",
       "75%             885.000000            58.000000\n",
       "max            2209.000000          1476.000000"
      ]
     },
     "execution_count": 10,
     "metadata": {},
     "output_type": "execute_result"
    }
   ],
   "source": [
    "news_pdf.describe()"
   ]
  },
  {
   "cell_type": "code",
   "execution_count": 11,
   "metadata": {},
   "outputs": [
    {
     "data": {
      "image/png": "[encoded data removed]",
      "text/plain": [
       "<Figure size 1080x360 with 1 Axes>"
      ]
     },
     "metadata": {
      "image/png": {
       "height": 318,
       "width": 890
      },
      "needs_background": "light"
     },
     "output_type": "display_data"
    }
   ],
   "source": [
    "import matplotlib.pyplot as plt\n",
    "import numpy as np\n",
    "min_count = 0\n",
    "max_count = 1200\n",
    "bins = np.linspace(min_count, max_count, 600, endpoint=False, dtype=int)\n",
    "plt.figure(figsize=(15,5))\n",
    "plt.hist(news_pdf.where(news_pdf.content_token_count < max_count).summary_token_count, bins = bins, color='red', alpha=0.5, label='summary', log=False)\n",
    "plt.hist(news_pdf.where(news_pdf.content_token_count < max_count).content_token_count, bins = bins, color='blue', alpha=0.5, label='content', log=False)\n",
    "plt.legend()\n",
    "plt.xticks(np.arange(min_count, max_count, 50))\n",
    "\n",
    "plt.title(\"Histogram of CNN/Daily Mail token counts\")\n",
    "plt.show();"
   ]
  },
  {
   "cell_type": "markdown",
   "metadata": {},
   "source": [
    "We can clearly see that the content has a very wide range of lengths while the summaries are much sorter."
   ]
  },
  {
   "cell_type": "code",
   "execution_count": null,
   "metadata": {},
   "outputs": [],
   "source": []
  },
  {
   "cell_type": "markdown",
   "metadata": {},
   "source": [
    "## Reddit TL;DR Dataset\n",
    "\n",
    "This data set can also be downloaded from [Tensorflow Datasets](https://www.tensorflow.org/datasets/catalog/reddit). \n",
    "\n",
    "The idea behind this dataset is that people posting to reddit may write a long post. At the end they add \"TL;DR\" followed by a summary of what they just posted. \"TL;DR\" simply means \"To long; didn't read.\" Originally this was a critisizm of a long post, now this has become a popular way to signal that you are going to summarize the meaning of the post so others can choose to read the whole thing or not.\n",
    "\n",
    "The data is nice for summarization, because these are intended to be actual summaries unlike the other datasets I am showing here which are re-purposing other parts of the articles for a substitue for the summarization. This dataset also has over 3 million records. It is also much less formal. We may be able to see if some subreddits have better summaries than others. "
   ]
  },
  {
   "cell_type": "code",
   "execution_count": 12,
   "metadata": {},
   "outputs": [],
   "source": [
    "reddit_sdf = spark.read.format(\"tfrecords\").load(\"/home/jzeimen/tensorflow_datasets/reddit/1.0.0/reddit*\")"
   ]
  },
  {
   "cell_type": "code",
   "execution_count": 13,
   "metadata": {},
   "outputs": [
    {
     "data": {
      "text/plain": [
       "3848330"
      ]
     },
     "execution_count": 13,
     "metadata": {},
     "output_type": "execute_result"
    }
   ],
   "source": [
    "reddit_sdf.count()"
   ]
  },
  {
   "cell_type": "code",
   "execution_count": 14,
   "metadata": {},
   "outputs": [
    {
     "data": {
      "text/html": [
       "<div>\n",
       "<style scoped>\n",
       "    .dataframe tbody tr th:only-of-type {\n",
       "        vertical-align: middle;\n",
       "    }\n",
       "\n",
       "    .dataframe tbody tr th {\n",
       "        vertical-align: top;\n",
       "    }\n",
       "\n",
       "    .dataframe thead th {\n",
       "        text-align: right;\n",
       "    }\n",
       "</style>\n",
       "<table border=\"1\" class=\"dataframe\">\n",
       "  <thead>\n",
       "    <tr style=\"text-align: right;\">\n",
       "      <th></th>\n",
       "      <th>content</th>\n",
       "      <th>summary</th>\n",
       "    </tr>\n",
       "  </thead>\n",
       "  <tbody>\n",
       "    <tr>\n",
       "      <th>0</th>\n",
       "      <td>I recently had my swing analyzed at a local Dick's Sporting Goods. The sales rep told me that out of 6 swings I had two at 86 mph, one at 87 mph, two at 96 mph and one at 100 mph.  The first three were the lowest which he attributed to not being loose, which makes sense.  Also, I have a terrible slice off the tee that I would like to control. I am fairly new to the game and I am looking to get my own set of clubs as I am currently using my dad's. The trouble is, I don't know which shaft flex to get. The clubs I am leaning towards are Adams, which I have read typically are not as stiff as they are rated. But I want to make the right decision. Any advice?</td>\n",
       "      <td>I'm new to the game of golf and need advice on what shaft flex to use.</td>\n",
       "    </tr>\n",
       "    <tr>\n",
       "      <th>1</th>\n",
       "      <td>A few hours ago I was browsing one of my usual subreddits when I noticed a post made by a random person using a nickname familiar to me. At first I had a hint of both curiosity and disbelief, I mean no way this redditor could be them out of the millions of accounts on here but there is that what-if feeling in the back of my mind. \\n Dumbshit me decides to click on the user's post history...Ya, it is them. I figured I might as well see what they were posting while we were together.The account turned into posts of nude pics and comments of how they were with multiple partners. Awesome.</td>\n",
       "      <td>Reddit helped confirm why my ex is my ex.</td>\n",
       "    </tr>\n",
       "    <tr>\n",
       "      <th>2</th>\n",
       "      <td>I am from Picon. I was raised there, and love life there. I say I want to move to Caprica to experience the largess and affluence, but in reality Picon is my home. I might go Caprica to study at their fine schools, but I'll always want to go back home to Picon, which always feels like home. \\n When the cylons attacked, I was on a transport from Caprica back home to visit family. We didn't have an F</td>\n",
       "      <td>ive, so when the fleet left, I was abandoned. My last memory was watching the twins of Caprica and Gemenon cross Helios Alpha. Then the cylon raiders came.</td>\n",
       "    </tr>\n",
       "  </tbody>\n",
       "</table>\n",
       "</div>"
      ],
      "text/plain": [
       "                                                                                                                                                                                                                                                                                                                                                                                                                                                                                                                                                                                                                                                                                 content  \\\n",
       "0  I recently had my swing analyzed at a local Dick's Sporting Goods. The sales rep told me that out of 6 swings I had two at 86 mph, one at 87 mph, two at 96 mph and one at 100 mph.  The first three were the lowest which he attributed to not being loose, which makes sense.  Also, I have a terrible slice off the tee that I would like to control. I am fairly new to the game and I am looking to get my own set of clubs as I am currently using my dad's. The trouble is, I don't know which shaft flex to get. The clubs I am leaning towards are Adams, which I have read typically are not as stiff as they are rated. But I want to make the right decision. Any advice?   \n",
       "1                                                                         A few hours ago I was browsing one of my usual subreddits when I noticed a post made by a random person using a nickname familiar to me. At first I had a hint of both curiosity and disbelief, I mean no way this redditor could be them out of the millions of accounts on here but there is that what-if feeling in the back of my mind. \\n Dumbshit me decides to click on the user's post history...Ya, it is them. I figured I might as well see what they were posting while we were together.The account turned into posts of nude pics and comments of how they were with multiple partners. Awesome.   \n",
       "2                                                                                                                                                                                                                                                                      I am from Picon. I was raised there, and love life there. I say I want to move to Caprica to experience the largess and affluence, but in reality Picon is my home. I might go Caprica to study at their fine schools, but I'll always want to go back home to Picon, which always feels like home. \\n When the cylons attacked, I was on a transport from Caprica back home to visit family. We didn't have an F   \n",
       "\n",
       "                                                                                                                                                       summary  \n",
       "0                                                                                       I'm new to the game of golf and need advice on what shaft flex to use.  \n",
       "1                                                                                                                    Reddit helped confirm why my ex is my ex.  \n",
       "2  ive, so when the fleet left, I was abandoned. My last memory was watching the twins of Caprica and Gemenon cross Helios Alpha. Then the cylon raiders came.  "
      ]
     },
     "execution_count": 14,
     "metadata": {},
     "output_type": "execute_result"
    }
   ],
   "source": [
    "reddit_sdf.limit(3).toPandas()[['content', 'summary']]"
   ]
  },
  {
   "cell_type": "code",
   "execution_count": 15,
   "metadata": {},
   "outputs": [],
   "source": [
    "reddit_sdf = add_token_counts(reddit_sdf, \"content\", \"summary\")\n",
    "reddit_sdf = reddit_sdf.select(\"content_token_count\", \"summary_token_count\", \"subreddit\")"
   ]
  },
  {
   "cell_type": "code",
   "execution_count": 16,
   "metadata": {},
   "outputs": [],
   "source": [
    "reddit_pdf = reddit_sdf.toPandas()"
   ]
  },
  {
   "cell_type": "code",
   "execution_count": 17,
   "metadata": {},
   "outputs": [
    {
     "data": {
      "image/png": "[encoded data removed]",
      "text/plain": [
       "<Figure size 1080x360 with 1 Axes>"
      ]
     },
     "metadata": {
      "image/png": {
       "height": 318,
       "width": 896
      },
      "needs_background": "light"
     },
     "output_type": "display_data"
    }
   ],
   "source": [
    "min_count = 0\n",
    "max_count = 1200\n",
    "plt.figure(figsize=(15,5))\n",
    "bins = np.linspace(min_count, max_count, 600, endpoint=False, dtype=int)\n",
    "plt.hist(reddit_pdf.where(reddit_pdf.content_token_count < max_count).summary_token_count, bins = bins, color='red', alpha=0.5, label='summary', log=False)\n",
    "plt.hist(reddit_pdf.where(reddit_pdf.content_token_count < max_count).content_token_count, bins = bins, color='blue', alpha=0.5, label='content', log=False)\n",
    "plt.legend()\n",
    "plt.xticks(np.arange(min_count, max_count, 50))\n",
    "\n",
    "plt.title(\"Histogram of Reddit TL;DR token counts\")\n",
    "plt.show();"
   ]
  },
  {
   "cell_type": "code",
   "execution_count": 18,
   "metadata": {},
   "outputs": [
    {
     "name": "stdout",
     "output_type": "stream",
     "text": [
      "+-------------------+------+\n",
      "|          subreddit| count|\n",
      "+-------------------+------+\n",
      "|          AskReddit|589947|\n",
      "|      relationships|352049|\n",
      "|    leagueoflegends|109307|\n",
      "|               tifu| 52219|\n",
      "|relationship_advice| 50416|\n",
      "|              trees| 47286|\n",
      "|             gaming| 43851|\n",
      "|            atheism| 43268|\n",
      "|      AdviceAnimals| 40783|\n",
      "|              funny| 40171|\n",
      "|           politics| 36518|\n",
      "|               pics| 35098|\n",
      "|                sex| 28806|\n",
      "|                WTF| 25781|\n",
      "|  explainlikeimfive| 25482|\n",
      "|      todayilearned| 25004|\n",
      "|            Fitness| 22694|\n",
      "|               IAmA| 22689|\n",
      "|          worldnews| 22577|\n",
      "|              DotA2| 22405|\n",
      "+-------------------+------+\n",
      "only showing top 20 rows\n",
      "\n"
     ]
    }
   ],
   "source": [
    "reddit_sdf.groupby(\"subreddit\").count().sort(\"count\", ascending=False).show(20)"
   ]
  },
  {
   "cell_type": "markdown",
   "metadata": {},
   "source": [
    "These are the \"subreddits\" or individual communities with the most number of posts. As you can see there is a wide variety of topics."
   ]
  },
  {
   "cell_type": "code",
   "execution_count": 19,
   "metadata": {},
   "outputs": [
    {
     "data": {
      "text/html": [
       "<div>\n",
       "<style scoped>\n",
       "    .dataframe tbody tr th:only-of-type {\n",
       "        vertical-align: middle;\n",
       "    }\n",
       "\n",
       "    .dataframe tbody tr th {\n",
       "        vertical-align: top;\n",
       "    }\n",
       "\n",
       "    .dataframe thead th {\n",
       "        text-align: right;\n",
       "    }\n",
       "</style>\n",
       "<table border=\"1\" class=\"dataframe\">\n",
       "  <thead>\n",
       "    <tr style=\"text-align: right;\">\n",
       "      <th></th>\n",
       "      <th>content_token_count</th>\n",
       "      <th>summary_token_count</th>\n",
       "    </tr>\n",
       "  </thead>\n",
       "  <tbody>\n",
       "    <tr>\n",
       "      <th>count</th>\n",
       "      <td>3848330.00</td>\n",
       "      <td>3848330.00</td>\n",
       "    </tr>\n",
       "    <tr>\n",
       "      <th>mean</th>\n",
       "      <td>280.25</td>\n",
       "      <td>27.07</td>\n",
       "    </tr>\n",
       "    <tr>\n",
       "      <th>std</th>\n",
       "      <td>280.99</td>\n",
       "      <td>34.28</td>\n",
       "    </tr>\n",
       "    <tr>\n",
       "      <th>min</th>\n",
       "      <td>0.00</td>\n",
       "      <td>0.00</td>\n",
       "    </tr>\n",
       "    <tr>\n",
       "      <th>25%</th>\n",
       "      <td>109.00</td>\n",
       "      <td>10.00</td>\n",
       "    </tr>\n",
       "    <tr>\n",
       "      <th>50%</th>\n",
       "      <td>195.00</td>\n",
       "      <td>19.00</td>\n",
       "    </tr>\n",
       "    <tr>\n",
       "      <th>75%</th>\n",
       "      <td>352.00</td>\n",
       "      <td>32.00</td>\n",
       "    </tr>\n",
       "    <tr>\n",
       "      <th>max</th>\n",
       "      <td>9954.00</td>\n",
       "      <td>3652.00</td>\n",
       "    </tr>\n",
       "  </tbody>\n",
       "</table>\n",
       "</div>"
      ],
      "text/plain": [
       "       content_token_count  summary_token_count\n",
       "count           3848330.00           3848330.00\n",
       "mean                280.25                27.07\n",
       "std                 280.99                34.28\n",
       "min                   0.00                 0.00\n",
       "25%                 109.00                10.00\n",
       "50%                 195.00                19.00\n",
       "75%                 352.00                32.00\n",
       "max                9954.00              3652.00"
      ]
     },
     "execution_count": 19,
     "metadata": {},
     "output_type": "execute_result"
    }
   ],
   "source": [
    "reddit_pdf.describe().round(2)"
   ]
  },
  {
   "cell_type": "markdown",
   "metadata": {},
   "source": [
    "These documents tend to be shorter than the CNN/Daily Mail dataset. There are quite a few very short posts that are shorter than many of the summaries. We will probably want to select only posts that have a long enough post and a long enough, but not too long summary. "
   ]
  },
  {
   "cell_type": "markdown",
   "metadata": {},
   "source": [
    "# Wikihow Dataset\n",
    "\n",
    "This data set is constructed in a similar way to the CNN/Daily Mail dataset. The articles were scraped and the headding of each step concatenated together becomes the summary while the explanatory parts to each step are concatenated together to be the content. [here is an example article](https://www.wikihow.com/Become-a-Machine-Learning-Engineer#:~:text=Harish%20Chandran%2C%20a%20machine%20learning,a%20technique%20called%20supervised%20learning.). This dataset has over 200,000 articles. \n",
    "\n",
    "You can download the files for the dataset from links in the repos README file [WikiHow-Dataset repository](https://github.com/mahnazkoupaee/WikiHow-Dataset). \n",
    "\n",
    "For this we'll use the wikihowAlll.csv file, which combines all the headlines together and then all the bodies together in a separate column. There is another dataset which could also be used which takes each section individually and gives you the single headline as the summary and the single step's body as the content. "
   ]
  },
  {
   "cell_type": "code",
   "execution_count": 20,
   "metadata": {},
   "outputs": [],
   "source": [
    "wiki_sdf = spark.read.csv(\"WikiHow-Dataset/wikihowAll.csv\", header=True, multiLine=True, escape=\"\\\"\").na.drop()"
   ]
  },
  {
   "cell_type": "code",
   "execution_count": 21,
   "metadata": {},
   "outputs": [
    {
     "data": {
      "text/plain": [
       "214294"
      ]
     },
     "execution_count": 21,
     "metadata": {},
     "output_type": "execute_result"
    }
   ],
   "source": [
    "wiki_sdf.count()"
   ]
  },
  {
   "cell_type": "code",
   "execution_count": 22,
   "metadata": {},
   "outputs": [
    {
     "data": {
      "text/html": [
       "<div>\n",
       "<style scoped>\n",
       "    .dataframe tbody tr th:only-of-type {\n",
       "        vertical-align: middle;\n",
       "    }\n",
       "\n",
       "    .dataframe tbody tr th {\n",
       "        vertical-align: top;\n",
       "    }\n",
       "\n",
       "    .dataframe thead th {\n",
       "        text-align: right;\n",
       "    }\n",
       "</style>\n",
       "<table border=\"1\" class=\"dataframe\">\n",
       "  <thead>\n",
       "    <tr style=\"text-align: right;\">\n",
       "      <th></th>\n",
       "      <th>headline</th>\n",
       "      <th>text</th>\n",
       "    </tr>\n",
       "  </thead>\n",
       "  <tbody>\n",
       "    <tr>\n",
       "      <th>0</th>\n",
       "      <td>\\nKeep related supplies in the same area.,\\nMake an effort to clean a dedicated workspace after every session.,\\nPlace loose supplies in large, clearly visible containers.,\\nUse clotheslines and clips to hang sketches, photos, and reference material.,\\nUse every inch of the room for storage, especially vertical space.,\\nUse chalkboard paint to make space for drafting ideas right on the walls.,\\nPurchase a label maker to make your organization strategy semi-permanent.,\\nMake a habit of throwing out old, excess, or useless stuff each month.</td>\n",
       "      <td>If you're a photographer, keep all the necessary lens, cords, and batteries in the same quadrant of your home or studio. Paints should be kept with brushes, cleaner, and canvas, print supplies should be by the ink, etc. Make broader groups and areas for your supplies to make finding them easier, limiting your search to a much smaller area. Some ideas include:\\n\\n\\nEssential supplies area -- the things you use every day.\\nInspiration and reference area.\\nDedicated work area .\\nInfrequent or secondary supplies area, tucked out of the way.;\\n, This doesn't mean cleaning the entire studio, it just means keeping the area immediately around the desk, easel, pottery wheel, etc. clean each night. Discard trash or unnecessary materials and wipe down dirty surfaces. Endeavor to leave the workspace in a way that you can sit down the next day and start working immediately, without having to do any work or tidying.\\n\\n\\nEven if the rest of your studio is a bit disorganized, an organized workspace will help you get down to business every time you want to make art.\\n\\n, As visual people, a lot of artist clutter comes from a desire to keep track of supplies visually instead of tucked out of sight. By using jars, old glasses, vases, and cheap, clear plastic drawers, you can keep things in sight without leaving it strewn about haphazardly. Some ideas, beyond those just mentioned, include:\\n\\n\\nCanvas shoe racks on the back of the door\\nWine racks with cups in each slot to hold pens/pencils.\\nPlastic restaurant squirt bottles for paint, pigment, etc., Simply string up the wires across a wall or along the ceiling and use them to hold essential papers that you don't want to cut or ruin with tacks or tape. Cheap and easy, this is also a good way to handle papers and ideas you touch regularly or need to pin up and down for inspiration., Shelving is an artist's best friend and is a cheap and easy way to get more room in your studio or art space. Don't be afraid to get up high either, especially for infrequently used supplies. The upper reaches of the room are often the most under-utilized, but provide vital space for all your tools and materials., Turning one wall into a chalkboard gives you a perfect space for ideas, sketches, and planning without requiring extra equipment or space. You can even use it for smaller areas. Paint over jars or storage equipment, allowing you to relabel them with chalk as your needs change.\\n\\n, A lot of disorganization comes when you keep moving the location of things, trying to optimize your space by reorganizing frequently. This usually has the opposite effect, leading to lost items and uncertainty when cleaning, but an afternoon with a label maker can solve everything. Instead of spending all of your mental energy looking for or storing things, you can just follow the labels, freeing your mind to think about art., Once a month, do a purge of your studio. If it isn't essential or part of a project, either throw it out or file it away for later. Artists are constantly making new things, experimenting, and making a mess. This is a good thing, but only if you set aside time to declutter. It may not be fun at the moment, but it is a lot more fun than spending 30 minutes digging through junk to find the right paint or an old sketch.\\n\\n\\nDon't be sentimental here. If you haven't used it in the last six months there is little chance you'll use it in the next six months. Toss it.\\n\\n</td>\n",
       "    </tr>\n",
       "    <tr>\n",
       "      <th>1</th>\n",
       "      <td>\\nCreate a sketch in the NeoPopRealist manner of the future mural on a small piece of paper 8\"x10\" using the black ink pen.,\\nPrepare to create your NeoPopRealist mural.,\\nPrepare your paint.,\\nBegin your project with a design.,\\nProduce a scaled down version of your finished mural.,\\nPrepare the wall to be painted.,\\nAfter you have primed the surface, measure the wall.,\\nPaint in the base coat of the background.,\\nAllow the background and base coats to dry.,\\nDraw the lines, then fill the appeared section with different repetitive patterns (examine the images above).,\\nPaint patterns with brushes of suitable size for the particular portion of work you are painting.,\\nClean up the lines and shapes as needed.,\\nSeal the mural if needed.,\\nBe inspired and it will help you succeed!</td>\n",
       "      <td>See the image for how this drawing develops step-by-step. However, there is an important detail: the following drawings are to examine it, and then, to create something unique.\\n\\n\\nUse the lines to create the image shape and sections.\\nFill appeared sections with different patterns/ ornaments.\\nAdd text if needed, for example \"NeoPopRealism is 25!\"\\nAdd a colored strip on the top, any color you wish.;\\n, Painting a mural always requires some preparation. You‘ll need equipment and effort, but planning and attention to detail will help you succeed. Painting a mural requires a suitable location, with the right surface that can be painted.\\n\\nThis surface should be smooth and flat. However, even rough-textured surfaces can be used for your NeoPopRealist mural project.\\n\\n, For exterior projects that last for years, using a newer 100% acrylic exterior paint would be your best choice. For interior walls, use latex paints. Latex offer easier cleanup and lower costs. By measuring the total wall area to be covered, the total amount of paint can be calculated, but since this mural painting requires two colors - white and black - figuring the actual area to be painted each color is necessary to allow purchasing the right amount of each one.\\n\\nLarge walls backgrounds may be rolled or sprayed with a white paint sprayer, where details may be added with brushes.\\nPaints are sensitive to high temperatures, humidity, direct sunlight, however, the interior projects do not have many complications. In public places, keeping the mural protected may require attention. For that reason, if you make your NeoPopRealist mural dedicated to its 25-year anniversary in school or office, you can consider using varnish for your mural.\\n\\n, See sample above. The design will give you a sense of proportion. You will have unique requirements and elements., Use a sketch and measure at scale the distances and locations of various points of your subject. Measuring key features will help you calculate the amount of paint when each feature is identified by its color., If the surface is low, the whole mural can be painted standing on the ground or from a stepladder. For higher work, you may have to rent a scaffold., Mark the horizontal and vertical lines., Use white paint as background., Then begin marking, using your scaled sketch, the location of key elements of objects, located in the foreground. Everything depends on the complexity of your mural. If you are confident in your artistic results, you may choose to draw all of the details in freehand., Be careful, keep clean transition edges from one color (black) to another (white). However, mistakes can be touched up later. Always allow fresh color to dry before proceeding to the drawing., An example would be painting a large patterns use big brushes, limbs, use small brushes for tiny and detailed patterns., If you have a drip or run, paint over it with the color paint appropriate for that location. Sharpen lines and patterns if they are blurred., If it is intended to last a long time or if it is on a surface that require cleaning, overcoat your mural project with a clear sealer., However, if you won't be able to involve more than 16 percent of your brain's grays matter, you'll end up with the primitive crafting of patterns or even worse, with doodling or so-called zen-doodling. But to create the NeoPopRealist ART one needs the abilities, which can be developed in talented people by studying using Nadia Russ' Neopoprealist instructional books. Other, the copycats' self-promotional superficial books will teach you only how to doodle because they have nothing in common with visual arts and its mission.\\n\\n</td>\n",
       "    </tr>\n",
       "    <tr>\n",
       "      <th>2</th>\n",
       "      <td>\\nGet a bachelor’s degree.,\\nEnroll in a studio-based program.,\\nTrain on a number of VFX computer programs.,\\nWatch online tutorials.,\\nNurture your artistic side.,\\nPay close attention to movies, television shows, and video games.,\\nDevelop a specialization.</td>\n",
       "      <td>It is possible to become a VFX artist without a college degree, but the path is often easier with one. VFX artists usually major in fine arts, computer graphics, or animation. Choose a college with a reputation for strength in these areas and a reputation for good job placement for graduates. The availability of internships is another factor to consider.Out of the jobs advertised for VFX artists, a majority at any given time specify a bachelor’s degree as a minimum requirement for applicants.;\\n, Some studios offer short-term programs for people who want to learn more about VFX artistry without pursuing a college degree. Enrolling in these programs can be expensive as financial aid isn’t always offered, but they usually have the most cutting edge technology for you to learn from., Although you may create some hand sketches, the majority of your work will be completed on the computer using the most up-to-date programs. Stay informed about the newest software advances by following VFX blogs and taking online computer tutorials.For example, VFX artists are expected to be well-versed in graphics and animation programs, such as Adobe Creative Suite and JavaScript.Clearly list every program that you can work with on your resume.\\n\\n, Hop onto YouTube or another video service and search for VFX clip reels or demonstrations. Some of these videos will focus on a particular skill set, such as shading, which you then can practice on your own. Challenge yourself to mimic some of the more difficult tasks, or even try to improve upon the models used., Take as many art and design classes as you can. Or, simply carry a sketch pad around with you to work on your basic animation skills. As you draw, consider factors such as lighting and framing. Even geometry skills can come in handy when creating a particular type of background or even a person’s face.Make a choice to become an observer of the world around you. Ask yourself: how could I capture the movement of the leaves? Or, in what situations do shadows appear?\\n\\n, Watch all of these creations with an eye for detail. Look for the techniques used and any original approaches that you see. Try to recreate any scenes that you find particularly interesting. Research the artists and see what their backgrounds are and contact them if you like., As you gain more experience, you’ll likely find yourself gravitating toward a certain aspect of design. This will become your “calling card” and directors and other professionals will seek you out for this type of work. To build your specialization, start choosing jobs with that emphasis and attend additional training seminars.For example, some VFX specialists focus on human character’s faces, animal figures, or city backgrounds.\\n\\n</td>\n",
       "    </tr>\n",
       "  </tbody>\n",
       "</table>\n",
       "</div>"
      ],
      "text/plain": [
       "                                                                                                                                                                                                                                                                                                                                                                                                                                                                                                                                                                                                                                                                                                                                                                                                                headline  \\\n",
       "0                                                                                                                                                                                                                                                       \\nKeep related supplies in the same area.,\\nMake an effort to clean a dedicated workspace after every session.,\\nPlace loose supplies in large, clearly visible containers.,\\nUse clotheslines and clips to hang sketches, photos, and reference material.,\\nUse every inch of the room for storage, especially vertical space.,\\nUse chalkboard paint to make space for drafting ideas right on the walls.,\\nPurchase a label maker to make your organization strategy semi-permanent.,\\nMake a habit of throwing out old, excess, or useless stuff each month.   \n",
       "1  \\nCreate a sketch in the NeoPopRealist manner of the future mural on a small piece of paper 8\"x10\" using the black ink pen.,\\nPrepare to create your NeoPopRealist mural.,\\nPrepare your paint.,\\nBegin your project with a design.,\\nProduce a scaled down version of your finished mural.,\\nPrepare the wall to be painted.,\\nAfter you have primed the surface, measure the wall.,\\nPaint in the base coat of the background.,\\nAllow the background and base coats to dry.,\\nDraw the lines, then fill the appeared section with different repetitive patterns (examine the images above).,\\nPaint patterns with brushes of suitable size for the particular portion of work you are painting.,\\nClean up the lines and shapes as needed.,\\nSeal the mural if needed.,\\nBe inspired and it will help you succeed!   \n",
       "2                                                                                                                                                                                                                                                                                                                                                                                                                                                                                                                                                   \\nGet a bachelor’s degree.,\\nEnroll in a studio-based program.,\\nTrain on a number of VFX computer programs.,\\nWatch online tutorials.,\\nNurture your artistic side.,\\nPay close attention to movies, television shows, and video games.,\\nDevelop a specialization.   \n",
       "\n",
       "                                                                                                                                                                                                                                                                                                                                                                                                                                                                                                                                                                                                                                                                                                                                                                                                                                                                                                                                                                                                                                                                                                                                                                                                                                                                                                                                                                                                                                                                                                                                                                                                                                                                                                                                                                                                                                                                                                                                                                                                                                                                                                                                                                                                                                                                                                                                                                                                                                                                                                                                                                                                                                                                                                                                                                                                                                                                                                                                                                                                                                                                                                                                                                                                                                                                                                                                                                                                                                                                                                                                                                                                                                                                                                                                                                                                                                  text  \n",
       "0                                                                                                                                                                                                                                             If you're a photographer, keep all the necessary lens, cords, and batteries in the same quadrant of your home or studio. Paints should be kept with brushes, cleaner, and canvas, print supplies should be by the ink, etc. Make broader groups and areas for your supplies to make finding them easier, limiting your search to a much smaller area. Some ideas include:\\n\\n\\nEssential supplies area -- the things you use every day.\\nInspiration and reference area.\\nDedicated work area .\\nInfrequent or secondary supplies area, tucked out of the way.;\\n, This doesn't mean cleaning the entire studio, it just means keeping the area immediately around the desk, easel, pottery wheel, etc. clean each night. Discard trash or unnecessary materials and wipe down dirty surfaces. Endeavor to leave the workspace in a way that you can sit down the next day and start working immediately, without having to do any work or tidying.\\n\\n\\nEven if the rest of your studio is a bit disorganized, an organized workspace will help you get down to business every time you want to make art.\\n\\n, As visual people, a lot of artist clutter comes from a desire to keep track of supplies visually instead of tucked out of sight. By using jars, old glasses, vases, and cheap, clear plastic drawers, you can keep things in sight without leaving it strewn about haphazardly. Some ideas, beyond those just mentioned, include:\\n\\n\\nCanvas shoe racks on the back of the door\\nWine racks with cups in each slot to hold pens/pencils.\\nPlastic restaurant squirt bottles for paint, pigment, etc., Simply string up the wires across a wall or along the ceiling and use them to hold essential papers that you don't want to cut or ruin with tacks or tape. Cheap and easy, this is also a good way to handle papers and ideas you touch regularly or need to pin up and down for inspiration., Shelving is an artist's best friend and is a cheap and easy way to get more room in your studio or art space. Don't be afraid to get up high either, especially for infrequently used supplies. The upper reaches of the room are often the most under-utilized, but provide vital space for all your tools and materials., Turning one wall into a chalkboard gives you a perfect space for ideas, sketches, and planning without requiring extra equipment or space. You can even use it for smaller areas. Paint over jars or storage equipment, allowing you to relabel them with chalk as your needs change.\\n\\n, A lot of disorganization comes when you keep moving the location of things, trying to optimize your space by reorganizing frequently. This usually has the opposite effect, leading to lost items and uncertainty when cleaning, but an afternoon with a label maker can solve everything. Instead of spending all of your mental energy looking for or storing things, you can just follow the labels, freeing your mind to think about art., Once a month, do a purge of your studio. If it isn't essential or part of a project, either throw it out or file it away for later. Artists are constantly making new things, experimenting, and making a mess. This is a good thing, but only if you set aside time to declutter. It may not be fun at the moment, but it is a lot more fun than spending 30 minutes digging through junk to find the right paint or an old sketch.\\n\\n\\nDon't be sentimental here. If you haven't used it in the last six months there is little chance you'll use it in the next six months. Toss it.\\n\\n  \n",
       "1   See the image for how this drawing develops step-by-step. However, there is an important detail: the following drawings are to examine it, and then, to create something unique.\\n\\n\\nUse the lines to create the image shape and sections.\\nFill appeared sections with different patterns/ ornaments.\\nAdd text if needed, for example \"NeoPopRealism is 25!\"\\nAdd a colored strip on the top, any color you wish.;\\n, Painting a mural always requires some preparation. You‘ll need equipment and effort, but planning and attention to detail will help you succeed. Painting a mural requires a suitable location, with the right surface that can be painted.\\n\\nThis surface should be smooth and flat. However, even rough-textured surfaces can be used for your NeoPopRealist mural project.\\n\\n, For exterior projects that last for years, using a newer 100% acrylic exterior paint would be your best choice. For interior walls, use latex paints. Latex offer easier cleanup and lower costs. By measuring the total wall area to be covered, the total amount of paint can be calculated, but since this mural painting requires two colors - white and black - figuring the actual area to be painted each color is necessary to allow purchasing the right amount of each one.\\n\\nLarge walls backgrounds may be rolled or sprayed with a white paint sprayer, where details may be added with brushes.\\nPaints are sensitive to high temperatures, humidity, direct sunlight, however, the interior projects do not have many complications. In public places, keeping the mural protected may require attention. For that reason, if you make your NeoPopRealist mural dedicated to its 25-year anniversary in school or office, you can consider using varnish for your mural.\\n\\n, See sample above. The design will give you a sense of proportion. You will have unique requirements and elements., Use a sketch and measure at scale the distances and locations of various points of your subject. Measuring key features will help you calculate the amount of paint when each feature is identified by its color., If the surface is low, the whole mural can be painted standing on the ground or from a stepladder. For higher work, you may have to rent a scaffold., Mark the horizontal and vertical lines., Use white paint as background., Then begin marking, using your scaled sketch, the location of key elements of objects, located in the foreground. Everything depends on the complexity of your mural. If you are confident in your artistic results, you may choose to draw all of the details in freehand., Be careful, keep clean transition edges from one color (black) to another (white). However, mistakes can be touched up later. Always allow fresh color to dry before proceeding to the drawing., An example would be painting a large patterns use big brushes, limbs, use small brushes for tiny and detailed patterns., If you have a drip or run, paint over it with the color paint appropriate for that location. Sharpen lines and patterns if they are blurred., If it is intended to last a long time or if it is on a surface that require cleaning, overcoat your mural project with a clear sealer., However, if you won't be able to involve more than 16 percent of your brain's grays matter, you'll end up with the primitive crafting of patterns or even worse, with doodling or so-called zen-doodling. But to create the NeoPopRealist ART one needs the abilities, which can be developed in talented people by studying using Nadia Russ' Neopoprealist instructional books. Other, the copycats' self-promotional superficial books will teach you only how to doodle because they have nothing in common with visual arts and its mission.\\n\\n  \n",
       "2                                                                                                                                                                                                                                                                                                                                                                                                                                                                                                                                                                                                                                                                                                                                                                                                                                                                                                                                                                     It is possible to become a VFX artist without a college degree, but the path is often easier with one. VFX artists usually major in fine arts, computer graphics, or animation. Choose a college with a reputation for strength in these areas and a reputation for good job placement for graduates. The availability of internships is another factor to consider.Out of the jobs advertised for VFX artists, a majority at any given time specify a bachelor’s degree as a minimum requirement for applicants.;\\n, Some studios offer short-term programs for people who want to learn more about VFX artistry without pursuing a college degree. Enrolling in these programs can be expensive as financial aid isn’t always offered, but they usually have the most cutting edge technology for you to learn from., Although you may create some hand sketches, the majority of your work will be completed on the computer using the most up-to-date programs. Stay informed about the newest software advances by following VFX blogs and taking online computer tutorials.For example, VFX artists are expected to be well-versed in graphics and animation programs, such as Adobe Creative Suite and JavaScript.Clearly list every program that you can work with on your resume.\\n\\n, Hop onto YouTube or another video service and search for VFX clip reels or demonstrations. Some of these videos will focus on a particular skill set, such as shading, which you then can practice on your own. Challenge yourself to mimic some of the more difficult tasks, or even try to improve upon the models used., Take as many art and design classes as you can. Or, simply carry a sketch pad around with you to work on your basic animation skills. As you draw, consider factors such as lighting and framing. Even geometry skills can come in handy when creating a particular type of background or even a person’s face.Make a choice to become an observer of the world around you. Ask yourself: how could I capture the movement of the leaves? Or, in what situations do shadows appear?\\n\\n, Watch all of these creations with an eye for detail. Look for the techniques used and any original approaches that you see. Try to recreate any scenes that you find particularly interesting. Research the artists and see what their backgrounds are and contact them if you like., As you gain more experience, you’ll likely find yourself gravitating toward a certain aspect of design. This will become your “calling card” and directors and other professionals will seek you out for this type of work. To build your specialization, start choosing jobs with that emphasis and attend additional training seminars.For example, some VFX specialists focus on human character’s faces, animal figures, or city backgrounds.\\n\\n  "
      ]
     },
     "execution_count": 22,
     "metadata": {},
     "output_type": "execute_result"
    }
   ],
   "source": [
    "wiki_sdf.limit(3).select(\"headline\", \"text\").toPandas()"
   ]
  },
  {
   "cell_type": "code",
   "execution_count": 23,
   "metadata": {},
   "outputs": [],
   "source": [
    "wiki_sdf = add_token_counts(wiki_sdf, \"text\", \"headline\")\n",
    "wiki_sdf = wiki_sdf.select(\"content_token_count\", \"summary_token_count\")"
   ]
  },
  {
   "cell_type": "code",
   "execution_count": 24,
   "metadata": {},
   "outputs": [],
   "source": [
    "wiki_pdf = wiki_sdf.toPandas()"
   ]
  },
  {
   "cell_type": "code",
   "execution_count": 25,
   "metadata": {},
   "outputs": [
    {
     "data": {
      "text/html": [
       "<div>\n",
       "<style scoped>\n",
       "    .dataframe tbody tr th:only-of-type {\n",
       "        vertical-align: middle;\n",
       "    }\n",
       "\n",
       "    .dataframe tbody tr th {\n",
       "        vertical-align: top;\n",
       "    }\n",
       "\n",
       "    .dataframe thead th {\n",
       "        text-align: right;\n",
       "    }\n",
       "</style>\n",
       "<table border=\"1\" class=\"dataframe\">\n",
       "  <thead>\n",
       "    <tr style=\"text-align: right;\">\n",
       "      <th></th>\n",
       "      <th>content_token_count</th>\n",
       "      <th>summary_token_count</th>\n",
       "    </tr>\n",
       "  </thead>\n",
       "  <tbody>\n",
       "    <tr>\n",
       "      <th>count</th>\n",
       "      <td>214294.000000</td>\n",
       "      <td>214294.000000</td>\n",
       "    </tr>\n",
       "    <tr>\n",
       "      <th>mean</th>\n",
       "      <td>446.568751</td>\n",
       "      <td>59.886044</td>\n",
       "    </tr>\n",
       "    <tr>\n",
       "      <th>std</th>\n",
       "      <td>492.705233</td>\n",
       "      <td>56.651188</td>\n",
       "    </tr>\n",
       "    <tr>\n",
       "      <th>min</th>\n",
       "      <td>0.000000</td>\n",
       "      <td>1.000000</td>\n",
       "    </tr>\n",
       "    <tr>\n",
       "      <th>25%</th>\n",
       "      <td>139.000000</td>\n",
       "      <td>25.000000</td>\n",
       "    </tr>\n",
       "    <tr>\n",
       "      <th>50%</th>\n",
       "      <td>303.000000</td>\n",
       "      <td>43.000000</td>\n",
       "    </tr>\n",
       "    <tr>\n",
       "      <th>75%</th>\n",
       "      <td>548.000000</td>\n",
       "      <td>77.000000</td>\n",
       "    </tr>\n",
       "    <tr>\n",
       "      <th>max</th>\n",
       "      <td>12457.000000</td>\n",
       "      <td>4398.000000</td>\n",
       "    </tr>\n",
       "  </tbody>\n",
       "</table>\n",
       "</div>"
      ],
      "text/plain": [
       "       content_token_count  summary_token_count\n",
       "count        214294.000000        214294.000000\n",
       "mean            446.568751            59.886044\n",
       "std             492.705233            56.651188\n",
       "min               0.000000             1.000000\n",
       "25%             139.000000            25.000000\n",
       "50%             303.000000            43.000000\n",
       "75%             548.000000            77.000000\n",
       "max           12457.000000          4398.000000"
      ]
     },
     "execution_count": 25,
     "metadata": {},
     "output_type": "execute_result"
    }
   ],
   "source": [
    "wiki_pdf.describe()"
   ]
  },
  {
   "cell_type": "code",
   "execution_count": 26,
   "metadata": {},
   "outputs": [
    {
     "data": {
      "image/png": "[encoded data removed]",
      "text/plain": [
       "<Figure size 1080x360 with 1 Axes>"
      ]
     },
     "metadata": {
      "image/png": {
       "height": 318,
       "width": 884
      },
      "needs_background": "light"
     },
     "output_type": "display_data"
    }
   ],
   "source": [
    "min_count = 0\n",
    "max_count = 1200\n",
    "plt.figure(figsize=(15,5))\n",
    "bins = np.linspace(min_count, max_count, 600, endpoint=False, dtype=int)\n",
    "plt.hist(wiki_pdf.where(wiki_pdf.content_token_count < max_count).summary_token_count, bins = bins, color='red', alpha=0.5, label='summary', log=False)\n",
    "plt.hist(wiki_pdf.where(wiki_pdf.content_token_count < max_count).content_token_count, bins = bins, color='blue', alpha=0.5, label='content', log=False)\n",
    "plt.legend()\n",
    "plt.xticks(np.arange(min_count, max_count, 50))\n",
    "\n",
    "plt.title(\"Histogram of WikiHow token counts\")\n",
    "plt.show();"
   ]
  },
  {
   "cell_type": "markdown",
   "metadata": {},
   "source": [
    "It looks like there are some articles with no content. We'll have to clean that up if we use this dataset going forward. "
   ]
  },
  {
   "cell_type": "code",
   "execution_count": null,
   "metadata": {},
   "outputs": [],
   "source": []
  }
 ],
 "metadata": {
  "kernelspec": {
   "display_name": "Python 3",
   "language": "python",
   "name": "python3"
  },
  "language_info": {
   "codemirror_mode": {
    "name": "ipython",
    "version": 3
   },
   "file_extension": ".py",
   "mimetype": "text/x-python",
   "name": "python",
   "nbconvert_exporter": "python",
   "pygments_lexer": "ipython3",
   "version": "3.6.12"
  }
 },
 "nbformat": 4,
 "nbformat_minor": 4
}
