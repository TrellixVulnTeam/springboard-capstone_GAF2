{
 "cells": [
  {
   "cell_type": "markdown",
   "metadata": {},
   "source": [
    "# Summarization Using Deep Learning Prototype\n",
    "\n",
    "This notebook is a prototype of trying to use deep learning for automatic extractive text summarization. To simplify the problem I have made the following assumptions. \n",
    "\n",
    "- The input article is 30 sentences or less.\n",
    "- A labeled dataset will be created by choosing up to the top 3 sentences that maximize the rouge score.\n",
    "- The training task is to then automatically chose which sentences should be included in the summary. \n",
    "- The input is a list of sentences in the article, and 1 sentence from the article.\n",
    "- The output is whether that sentence should be included in the summary or not. (1 or 0).\n",
    "- To classify the entire document we will have to loop over each sentence to ask the model if it should be included or not. \n",
    "\n",
    "The structure for this model gets lots of ideas from this paper:\n",
    "\n",
    "_SummaRuNNer: A Recurrent Neural Network based Sequence Model for\n",
    "Extractive Summarization of Documents_\n",
    "\n",
    "Ramesh Nallapati, Feifei Zhai, Bowen Zhou\n",
    "\n",
    "https://arxiv.org/pdf/1611.04230.pdf\n",
    "\n",
    "\n",
    "I have already made a clean dataset in the data cleaning notebook. So I can go ahead and load it. "
   ]
  },
  {
   "cell_type": "code",
   "execution_count": 1,
   "metadata": {},
   "outputs": [],
   "source": [
    "# run the following command if you don't have the spacy model downloaded yet.\n",
    "# This must be done before you import spacy. https://spacy.io/models/en#en_core_web_sm\n",
    "# ! python -m spacy download en_core_web_sm"
   ]
  },
  {
   "cell_type": "code",
   "execution_count": 2,
   "metadata": {},
   "outputs": [],
   "source": [
    "import numpy as np\n",
    "import tensorflow as tf\n",
    "import tensorflow_hub as hub\n",
    "import tensorflow_datasets as tfds\n",
    "from tensorflow.keras import *\n",
    "import spacy\n",
    "import pandas as pd\n",
    "import os"
   ]
  },
  {
   "cell_type": "code",
   "execution_count": 3,
   "metadata": {},
   "outputs": [],
   "source": [
    "#Params\n",
    "\n",
    "article_train_limit = None # How many articles we allow to be trained.\n",
    "max_article_length = 30\n",
    "batch = 128\n",
    "fine_tune_USE = False # Whether or not our we should allow additional training on the sentence embedder.\n",
    "checkpoint_dir = 'tfmodel.spacy.average_pooling.class_weights'\n",
    "\n",
    "data_dir = \"spacy_fmeasure-1\"\n",
    "train_data = os.path.join(data_dir,'train.labeled.parquet')\n",
    "validation_data = os.path.join(data_dir,'validation.labeled.parquet')\n",
    "test_data = os.path.join(data_dir,'test.labeled.parquet')\n",
    "\n",
    "# True means to balance data using number of samples\n",
    "# False means to balance it using class weights\n",
    "balance_data = False"
   ]
  },
  {
   "cell_type": "code",
   "execution_count": 4,
   "metadata": {},
   "outputs": [
    {
     "data": {
      "text/plain": [
       "Index(['article', 'summary', 'sentences', 'labels', 'rouge'], dtype='object')"
      ]
     },
     "execution_count": 4,
     "metadata": {},
     "output_type": "execute_result"
    }
   ],
   "source": [
    "df=pd.read_parquet('test.labeled.parquet')\n",
    "df.columns"
   ]
  },
  {
   "cell_type": "markdown",
   "metadata": {},
   "source": [
    "Here is a description of the columms\n",
    "\n",
    "- **article** the original article.\n",
    "- **summary** the summary from the dataset. \n",
    "- **sentences** an array with the article split into individual sentences\n",
    "- **labels** array same length as `sents` identifying which sentences should be in the summary.\n",
    "- **rouge** The rouge1 score for the 3 labels=1 sentences against the summary"
   ]
  },
  {
   "cell_type": "code",
   "execution_count": 5,
   "metadata": {},
   "outputs": [],
   "source": [
    "# If the article is less than max_article_length, we need to pad and mask the empty sentences.\n",
    "def make_mask(sents):\n",
    "    length = len(sents)\n",
    "    return ([True] * length) +([False] * (max_article_length-length))\n",
    "\n",
    "# Just use empty strings to pad\n",
    "def pad_sents(sents):\n",
    "    length = len(sents)\n",
    "    if not isinstance(sents, list):\n",
    "        sents = sents.tolist()\n",
    "    return sents + [\"\"] * (max_article_length-length)\n",
    "\n",
    "def explode_examples(parquet_file_name, article_train_limit=None, balance_data=True):\n",
    "    df=pd.read_parquet(parquet_file_name)\n",
    "    df['sent_count'] = df.sentences.map(lambda x: len(x))\n",
    "    df = df[df.sent_count<=max_article_length].copy()\n",
    "\n",
    "    df = df.iloc[0:article_train_limit].copy()\n",
    "    df['mask'] = df.sentences.map(make_mask)\n",
    "\n",
    "    # Here we pair the label and individual sentence then explode these into individual training examples.\n",
    "    # This has the side effect of excluding the padded strings because the labels can be shorter than the\n",
    "    # sentences. e.g. list(zip(['a','b','c'], [1,2])) ==  [('a', 1), ('b', 2)]    (Note no 'c')\n",
    "    df['paired'] = df.apply(lambda x: list(zip(x.labels, x.sentences)), axis=1)\n",
    "    df = df.explode('paired')\n",
    "    df['label'] = df.paired.map(lambda x: x[0])\n",
    "    df['sent'] = df.paired.map(lambda x: x[1])\n",
    "    df['sentences'] = df.sentences.map(pad_sents)\n",
    "    df = df[['sentences', 'sent', 'label', 'mask']]\n",
    "    if balance_data:\n",
    "        positive = df[df.label==1].shape[0]\n",
    "        balanced = df[df.label==0].sample(frac=1).iloc[0:positive].copy()\n",
    "        df = balanced.append(df[df.label==1].copy())\n",
    "    df = df.sample(frac=1)\n",
    "    \n",
    "    x = {\"article_sentences\":tf.constant(df.sentences.values.tolist()), \n",
    "             \"sent\":tf.constant(df.sent.values.tolist()), \n",
    "             \"mask\": tf.constant(df['mask'].values.tolist())}\n",
    "    y = tf.convert_to_tensor(df.label.values, dtype=tf.int8)\n",
    "    return tf.data.Dataset.from_tensor_slices((x, y)).batch(batch, drop_remainder=True)"
   ]
  },
  {
   "cell_type": "code",
   "execution_count": 6,
   "metadata": {},
   "outputs": [],
   "source": [
    "train_dataset = explode_examples(train_data, article_train_limit=article_train_limit, balance_data=balance_data)\n",
    "validation_dataset = explode_examples(validation_data, balance_data=balance_data)"
   ]
  },
  {
   "cell_type": "code",
   "execution_count": 7,
   "metadata": {},
   "outputs": [
    {
     "name": "stdout",
     "output_type": "stream",
     "text": [
      "Porportion of positive examples 0.047206480999946204\n"
     ]
    },
    {
     "data": {
      "text/plain": [
       "{0: 0.5247726711289393, 1: 10.591765990787787}"
      ]
     },
     "execution_count": 7,
     "metadata": {},
     "output_type": "execute_result"
    }
   ],
   "source": [
    "train_df = pd.read_parquet(train_data)\n",
    "train_df['article_length'] = train_df.labels.map(len)\n",
    "train_df = train_df[train_df.article_length <= max_article_length]\n",
    "total_labels = train_df.article_length.sum()\n",
    "total_pos = train_df.labels.map(sum).sum()\n",
    "print(f'Porportion of positive examples {total_pos/total_labels}')\n",
    "pos_weight = total_labels / (2 * total_pos)\n",
    "neg_weight = total_labels / (2* (total_labels-total_pos))\n",
    "class_weights = {0: neg_weight, 1: pos_weight}\n",
    "if balance_data:\n",
    "    class_weights = {0:1, 1:1}\n",
    "class_weights"
   ]
  },
  {
   "cell_type": "code",
   "execution_count": 8,
   "metadata": {},
   "outputs": [
    {
     "data": {
      "text/plain": [
       "<BatchDataset shapes: ({article_sentences: (128, 30), sent: (128,), mask: (128, 30)}, (128,)), types: ({article_sentences: tf.string, sent: tf.string, mask: tf.bool}, tf.int8)>"
      ]
     },
     "execution_count": 8,
     "metadata": {},
     "output_type": "execute_result"
    }
   ],
   "source": [
    "train_dataset"
   ]
  },
  {
   "cell_type": "markdown",
   "metadata": {},
   "source": [
    "Here is the description of the transformed data\n",
    "\n",
    "#### X\n",
    "- **article_sentences** The sentences padded to a fixed length, this could be duplicated for as many sentences are in the article.\n",
    "- **sent** The individual sentence for the training example\n",
    "- **mask** To keep track of which sentences are just paddin\n",
    "\n",
    "#### Y:\n",
    "- **label** Whether or not this example should be included in the summary"
   ]
  },
  {
   "cell_type": "markdown",
   "metadata": {},
   "source": [
    "## Model Graph\n",
    "\n",
    "Below you can see the summary and image. \n",
    "For the forward pass we have the sentences that get embedded using Universal Sentence Encoder and then squashed into 1 vector using a GRU. \n",
    "Then the sentence to be classified is embedded using Universal Sentence encoder as well. \n",
    "These two vectors are concatenated and dense layers bring it down to 1 output. "
   ]
  },
  {
   "cell_type": "code",
   "execution_count": 9,
   "metadata": {},
   "outputs": [],
   "source": [
    "# This can take a minute to load.\n",
    "# Loading this one multiple times sometimes causes errors. \n",
    "# If running the cells below multiple times and you get some weird un explainable error, restart\n",
    "# the kernel to see if it helps. \n",
    "\n",
    "#If you get the error SavedModel file does not exist at: /var/folders/cl....\n",
    "# Delete it ex: rm -r /var/folders/cl/63p3pg596jq18sjxn0zdb8k40000gn/T/tfhub_modules/063d866c06683311b44b4992fd46003be952409c\n",
    "\n",
    "use_embed_sent = hub.keras_layer.KerasLayer(\"https://tfhub.dev/google/universal-sentence-encoder/4\", name=\"sent_embedder\", trainable=fine_tune_USE)\n",
    "use_embed_article_sentences = hub.keras_layer.KerasLayer(\"https://tfhub.dev/google/universal-sentence-encoder/4\", name=\"article_sents_embedder\", trainable=fine_tune_USE)"
   ]
  },
  {
   "cell_type": "code",
   "execution_count": 10,
   "metadata": {},
   "outputs": [
    {
     "name": "stdout",
     "output_type": "stream",
     "text": [
      "Model: \"model\"\n",
      "__________________________________________________________________________________________________\n",
      "Layer (type)                    Output Shape         Param #     Connected to                     \n",
      "==================================================================================================\n",
      "article_sentences (InputLayer)  [(None, 30)]         0                                            \n",
      "__________________________________________________________________________________________________\n",
      "tf_op_layer_article_sentences_1 [(None,)]            0           article_sentences[0][0]          \n",
      "__________________________________________________________________________________________________\n",
      "sent (InputLayer)               [(None,)]            0                                            \n",
      "__________________________________________________________________________________________________\n",
      "article_sents_embedder (KerasLa (None, 512)          256797824   tf_op_layer_article_sentences_1d[\n",
      "__________________________________________________________________________________________________\n",
      "tf_op_layer_sent_reshaped (Tens [(None,)]            0           sent[0][0]                       \n",
      "__________________________________________________________________________________________________\n",
      "tf_op_layer_article_sentences_r [(None, 30, 512)]    0           article_sents_embedder[0][0]     \n",
      "__________________________________________________________________________________________________\n",
      "mask (InputLayer)               [(None, 30)]         0                                            \n",
      "__________________________________________________________________________________________________\n",
      "sent_embedder (KerasLayer)      (None, 512)          256797824   tf_op_layer_sent_reshaped[0][0]  \n",
      "__________________________________________________________________________________________________\n",
      "bidirectional (Bidirectional)   (None, 1024)         3151872     tf_op_layer_article_sentences_res\n",
      "__________________________________________________________________________________________________\n",
      "tf_op_layer_sent_embed_reshaped [(None, 512)]        0           sent_embedder[0][0]              \n",
      "__________________________________________________________________________________________________\n",
      "tf_op_layer_concated (TensorFlo [(None, 1536)]       0           bidirectional[0][0]              \n",
      "                                                                 tf_op_layer_sent_embed_reshaped[0\n",
      "__________________________________________________________________________________________________\n",
      "dense (Dense)                   (None, 128)          196736      tf_op_layer_concated[0][0]       \n",
      "__________________________________________________________________________________________________\n",
      "dense_1 (Dense)                 (None, 1)            129         dense[0][0]                      \n",
      "==================================================================================================\n",
      "Total params: 516,944,385\n",
      "Trainable params: 3,348,737\n",
      "Non-trainable params: 513,595,648\n",
      "__________________________________________________________________________________________________\n"
     ]
    }
   ],
   "source": [
    "article_sentences = tf.keras.layers.Input(shape=[max_article_length],dtype=tf.string, name=\"article_sentences\", ragged=False)\n",
    "sent = tf.keras.layers.Input(shape=[], name='sent', dtype=tf.string)\n",
    "mask = tf.keras.layers.Input(shape=[max_article_length], dtype=tf.bool, name=\"mask\")\n",
    "sent_reshaped = tf.reshape(sent, [-1], name=\"sent_reshaped\")\n",
    "sent_embed = use_embed_sent(sent_reshaped)\n",
    "sent_embed_reshaped = tf.reshape(sent_embed, [-1,512], name=\"sent_embed_reshaped\")\n",
    "article_sentences_1d = tf.reshape(article_sentences, [-1], name=\"article_sentences_1d\")\n",
    "article_sentences_embed = use_embed_article_sentences(article_sentences_1d)\n",
    "article_sentences_restored = tf.reshape(article_sentences_embed, [-1, max_article_length, 512], name=\"article_sentences_restored\")\n",
    "article_sentences_gru = tf.keras.layers.Bidirectional(tf.keras.layers.GRU(512,name=\"gru\", dropout=0.2))(article_sentences_restored, mask=mask)\n",
    "concatenated = tf.concat([article_sentences_gru, sent_embed_reshaped], axis=1, name=\"concated\")\n",
    "d1 = layers.Dense(128, activation='relu')(concatenated)\n",
    "d2 = layers.Dense(1, activation='sigmoid')(d1)\n",
    "model = Model(inputs=[article_sentences, sent, mask], outputs=[d2])\n",
    "model.compile(loss=losses.BinaryCrossentropy(), \n",
    "              metrics=[tf.keras.metrics.BinaryAccuracy(), tf.keras.metrics.Recall()],\n",
    "              optimizer=tf.keras.optimizers.RMSprop(learning_rate=0.001))\n",
    "model.summary()"
   ]
  },
  {
   "cell_type": "code",
   "execution_count": 11,
   "metadata": {},
   "outputs": [
    {
     "data": {
      "image/png": "[encoded data removed]",
      "text/plain": [
       "<IPython.core.display.Image object>"
      ]
     },
     "execution_count": 11,
     "metadata": {},
     "output_type": "execute_result"
    }
   ],
   "source": [
    "tf.keras.utils.plot_model(model, show_shapes=True, show_layer_names=True)"
   ]
  },
  {
   "cell_type": "code",
   "execution_count": 12,
   "metadata": {},
   "outputs": [],
   "source": [
    "checkpoint_filepath = checkpoint_dir\n",
    "model_checkpoint_callback = tf.keras.callbacks.ModelCheckpoint(\n",
    "    filepath=checkpoint_filepath,\n",
    "    monitor='val_binary_accuracy',\n",
    "    mode='max',\n",
    "    save_best_only=True)"
   ]
  },
  {
   "cell_type": "code",
   "execution_count": 13,
   "metadata": {},
   "outputs": [
    {
     "name": "stdout",
     "output_type": "stream",
     "text": [
      "Epoch 1/5\n",
      "17425/17425 [==============================] - ETA: 0s - loss: 0.5479 - binary_accuracy: 0.6497 - recall: 0.7792WARNING:tensorflow:From /home/jzeimen/anaconda3/envs/p36/lib/python3.6/site-packages/tensorflow/python/ops/resource_variable_ops.py:1817: calling BaseResourceVariable.__init__ (from tensorflow.python.ops.resource_variable_ops) with constraint is deprecated and will be removed in a future version.\n",
      "Instructions for updating:\n",
      "If using Keras pass *_constraint arguments to layers.\n"
     ]
    },
    {
     "name": "stderr",
     "output_type": "stream",
     "text": [
      "WARNING:tensorflow:From /home/jzeimen/anaconda3/envs/p36/lib/python3.6/site-packages/tensorflow/python/ops/resource_variable_ops.py:1817: calling BaseResourceVariable.__init__ (from tensorflow.python.ops.resource_variable_ops) with constraint is deprecated and will be removed in a future version.\n",
      "Instructions for updating:\n",
      "If using Keras pass *_constraint arguments to layers.\n"
     ]
    },
    {
     "name": "stdout",
     "output_type": "stream",
     "text": [
      "INFO:tensorflow:Assets written to: tfmodel.spacy.average_pooling.class_weights/assets\n"
     ]
    },
    {
     "name": "stderr",
     "output_type": "stream",
     "text": [
      "INFO:tensorflow:Assets written to: tfmodel.spacy.average_pooling.class_weights/assets\n"
     ]
    },
    {
     "name": "stdout",
     "output_type": "stream",
     "text": [
      "17425/17425 [==============================] - 5046s 290ms/step - loss: 0.5479 - binary_accuracy: 0.6497 - recall: 0.7792 - val_loss: 0.5946 - val_binary_accuracy: 0.6307 - val_recall: 0.8229\n",
      "Epoch 2/5\n",
      "17425/17425 [==============================] - 4995s 287ms/step - loss: 0.5533 - binary_accuracy: 0.6630 - recall: 0.7741 - val_loss: 0.6596 - val_binary_accuracy: 0.6177 - val_recall: 0.8220\n",
      "Epoch 3/5\n",
      "17425/17425 [==============================] - ETA: 0s - loss: 0.5962 - binary_accuracy: 0.6637 - recall: 0.7443INFO:tensorflow:Assets written to: tfmodel.spacy.average_pooling.class_weights/assets\n"
     ]
    },
    {
     "name": "stderr",
     "output_type": "stream",
     "text": [
      "INFO:tensorflow:Assets written to: tfmodel.spacy.average_pooling.class_weights/assets\n"
     ]
    },
    {
     "name": "stdout",
     "output_type": "stream",
     "text": [
      "17425/17425 [==============================] - 5019s 288ms/step - loss: 0.5962 - binary_accuracy: 0.6637 - recall: 0.7443 - val_loss: 0.6109 - val_binary_accuracy: 0.6714 - val_recall: 0.7314\n",
      "Epoch 4/5\n",
      "17425/17425 [==============================] - 4995s 287ms/step - loss: 0.6333 - binary_accuracy: 0.6589 - recall: 0.7324 - val_loss: 0.6297 - val_binary_accuracy: 0.6531 - val_recall: 0.7537\n",
      "Epoch 5/5\n",
      "17425/17425 [==============================] - 4993s 287ms/step - loss: 0.6634 - binary_accuracy: 0.6545 - recall: 0.7253 - val_loss: 0.6998 - val_binary_accuracy: 0.6256 - val_recall: 0.7553\n"
     ]
    }
   ],
   "source": [
    "history = model.fit(train_dataset, \n",
    "                    validation_data=validation_dataset,\n",
    "                    epochs=5,\n",
    "                    callbacks=[model_checkpoint_callback],\n",
    "                    class_weight=class_weights)"
   ]
  },
  {
   "cell_type": "code",
   "execution_count": 16,
   "metadata": {},
   "outputs": [
    {
     "data": {
      "text/plain": [
       "{'loss': [0.5478658676147461,\n",
       "  0.5533235669136047,\n",
       "  0.5962039828300476,\n",
       "  0.6333487629890442,\n",
       "  0.6633638143539429],\n",
       " 'binary_accuracy': [0.6496717929840088,\n",
       "  0.6630277037620544,\n",
       "  0.663658082485199,\n",
       "  0.6589078307151794,\n",
       "  0.6545377373695374],\n",
       " 'recall': [0.7791612148284912,\n",
       "  0.774080216884613,\n",
       "  0.7442969083786011,\n",
       "  0.7323778867721558,\n",
       "  0.7252739667892456],\n",
       " 'val_loss': [0.5946314930915833,\n",
       "  0.6596103310585022,\n",
       "  0.6108503341674805,\n",
       "  0.6296756267547607,\n",
       "  0.6997542977333069],\n",
       " 'val_binary_accuracy': [0.630679726600647,\n",
       "  0.6177093386650085,\n",
       "  0.6713985204696655,\n",
       "  0.6531038284301758,\n",
       "  0.6255671977996826],\n",
       " 'val_recall': [0.8229360580444336,\n",
       "  0.8220049738883972,\n",
       "  0.7313780188560486,\n",
       "  0.7537243962287903,\n",
       "  0.7552762031555176]}"
      ]
     },
     "execution_count": 16,
     "metadata": {},
     "output_type": "execute_result"
    }
   ],
   "source": [
    "history.history"
   ]
  },
  {
   "cell_type": "markdown",
   "metadata": {},
   "source": [
    "# Predict"
   ]
  },
  {
   "cell_type": "code",
   "execution_count": 9,
   "metadata": {},
   "outputs": [
    {
     "data": {
      "text/plain": [
       "'tfmodel.spacy.average_pooling.class_weights'"
      ]
     },
     "execution_count": 9,
     "metadata": {},
     "output_type": "execute_result"
    }
   ],
   "source": [
    "model=None\n",
    "tf.keras.backend.clear_session()\n",
    "checkpoint_dir"
   ]
  },
  {
   "cell_type": "code",
   "execution_count": 10,
   "metadata": {},
   "outputs": [],
   "source": [
    "saved_model = tf.keras.models.load_model(checkpoint_dir)"
   ]
  },
  {
   "cell_type": "code",
   "execution_count": 14,
   "metadata": {},
   "outputs": [],
   "source": [
    "# See info here https://spacy.io/models/en#en_core_web_sm\n",
    "from rouge_score import rouge_scorer\n",
    "scorer = rouge_scorer.RougeScorer(['rouge1'], use_stemmer=True)\n",
    "nlp = spacy.load('en_core_web_sm')\n",
    "\n",
    "def predict(sentences, model):\n",
    "    sentences = sentences[:max_article_length]\n",
    "    original_length = len(sentences)\n",
    "    sentences = pad_sents(sentences)\n",
    "    mask = make_mask(sentences)\n",
    "    scores = model({\"article_sentences\":tf.constant([sentences]*max_article_length), \n",
    "             \"sent\":tf.constant(sentences), \n",
    "             \"mask\": tf.constant([mask]*max_article_length)})\n",
    "    scores = scores.numpy().squeeze()\n",
    "    return scores, sentences\n",
    "\n",
    "def predict_top_sents(sentences, model, n=1):\n",
    "    scores, sentences = predict(sentences, model)\n",
    "    df = pd.DataFrame({'score': scores, 'sentence': sentences})\n",
    "    return \" \".join(df.nlargest(n,'score').sort_index()['sentence'].values.tolist())\n",
    "\n",
    "def calculate_rouge(sentences, model, summary, scorer):\n",
    "    gen_summary = predict_top_sents(sentences, model)\n",
    "    score = scorer.score(summary, gen_summary)\n",
    "    return score['rouge1'].fmeasure\n",
    "\n",
    "def calculate_naive_rouge(sentences, summary, scorer):\n",
    "    score = scorer.score(summary, \" \".join(sentences[:1]))\n",
    "    return score['rouge1'].fmeasure\n",
    "\n",
    "def naive_rouge_pd(row):\n",
    "    row['naive_rouge'] = calculate_naive_rouge(row['sentences'], row['summary'], scorer)\n",
    "    return row\n",
    "\n",
    "def rouge_pd(row):\n",
    "    row['rouge'] = calculate_rouge(row['sentences'], saved_model, row['summary'], scorer)\n",
    "    return row"
   ]
  },
  {
   "cell_type": "code",
   "execution_count": null,
   "metadata": {},
   "outputs": [],
   "source": [
    "test_dataset = explode_examples(test_data, None, False)\n",
    "saved_model.evaluate(test_dataset)"
   ]
  },
  {
   "cell_type": "code",
   "execution_count": 16,
   "metadata": {},
   "outputs": [],
   "source": [
    "test_df = pd.read_parquet(test_data)"
   ]
  },
  {
   "cell_type": "code",
   "execution_count": 17,
   "metadata": {},
   "outputs": [
    {
     "name": "stderr",
     "output_type": "stream",
     "text": [
      "/Users/jzeimen/anaconda3/envs/p3/lib/python3.7/site-packages/tqdm/std.py:668: FutureWarning: The Panel class is removed from pandas. Accessing it from the top-level namespace will also be removed in the next version\n",
      "  from pandas import Panel\n"
     ]
    }
   ],
   "source": [
    "from tqdm import tqdm\n",
    "tqdm.pandas()"
   ]
  },
  {
   "cell_type": "code",
   "execution_count": 19,
   "metadata": {},
   "outputs": [
    {
     "name": "stderr",
     "output_type": "stream",
     "text": [
      "100%|██████████| 11490/11490 [00:21<00:00, 539.18it/s]\n"
     ]
    }
   ],
   "source": [
    "df = test_df.progress_apply(naive_rouge_pd, axis=1)\n",
    "df = df.progress_apply(rouge_pd, axis=1)\n"
   ]
  },
  {
   "cell_type": "code",
   "execution_count": 28,
   "metadata": {},
   "outputs": [
    {
     "data": {
      "text/html": [
       "<div>\n",
       "<style scoped>\n",
       "    .dataframe tbody tr th:only-of-type {\n",
       "        vertical-align: middle;\n",
       "    }\n",
       "\n",
       "    .dataframe tbody tr th {\n",
       "        vertical-align: top;\n",
       "    }\n",
       "\n",
       "    .dataframe thead th {\n",
       "        text-align: right;\n",
       "    }\n",
       "</style>\n",
       "<table border=\"1\" class=\"dataframe\">\n",
       "  <thead>\n",
       "    <tr style=\"text-align: right;\">\n",
       "      <th></th>\n",
       "      <th>rouge_fmeasure</th>\n",
       "      <th>rouge</th>\n",
       "      <th>naive_rouge</th>\n",
       "    </tr>\n",
       "  </thead>\n",
       "  <tbody>\n",
       "    <tr>\n",
       "      <th>count</th>\n",
       "      <td>11490.000000</td>\n",
       "      <td>11490.000000</td>\n",
       "      <td>11490.000000</td>\n",
       "    </tr>\n",
       "    <tr>\n",
       "      <th>mean</th>\n",
       "      <td>0.434478</td>\n",
       "      <td>0.284209</td>\n",
       "      <td>0.267632</td>\n",
       "    </tr>\n",
       "    <tr>\n",
       "      <th>std</th>\n",
       "      <td>0.091923</td>\n",
       "      <td>0.124016</td>\n",
       "      <td>0.126278</td>\n",
       "    </tr>\n",
       "    <tr>\n",
       "      <th>min</th>\n",
       "      <td>0.094203</td>\n",
       "      <td>0.000000</td>\n",
       "      <td>0.000000</td>\n",
       "    </tr>\n",
       "    <tr>\n",
       "      <th>25%</th>\n",
       "      <td>0.370968</td>\n",
       "      <td>0.192308</td>\n",
       "      <td>0.179559</td>\n",
       "    </tr>\n",
       "    <tr>\n",
       "      <th>50%</th>\n",
       "      <td>0.426966</td>\n",
       "      <td>0.268657</td>\n",
       "      <td>0.263158</td>\n",
       "    </tr>\n",
       "    <tr>\n",
       "      <th>75%</th>\n",
       "      <td>0.487805</td>\n",
       "      <td>0.363636</td>\n",
       "      <td>0.350000</td>\n",
       "    </tr>\n",
       "    <tr>\n",
       "      <th>max</th>\n",
       "      <td>1.000000</td>\n",
       "      <td>1.000000</td>\n",
       "      <td>0.840580</td>\n",
       "    </tr>\n",
       "  </tbody>\n",
       "</table>\n",
       "</div>"
      ],
      "text/plain": [
       "       rouge_fmeasure         rouge   naive_rouge\n",
       "count    11490.000000  11490.000000  11490.000000\n",
       "mean         0.434478      0.284209      0.267632\n",
       "std          0.091923      0.124016      0.126278\n",
       "min          0.094203      0.000000      0.000000\n",
       "25%          0.370968      0.192308      0.179559\n",
       "50%          0.426966      0.268657      0.263158\n",
       "75%          0.487805      0.363636      0.350000\n",
       "max          1.000000      1.000000      0.840580"
      ]
     },
     "execution_count": 28,
     "metadata": {},
     "output_type": "execute_result"
    }
   ],
   "source": [
    "# Rouge_fmeasure is from the best in a greedy search\n",
    "# rouge is from our precision\n",
    "# naive_rouge is when we just use the first 3 sentences\n",
    "df[['rouge_fmeasure', 'rouge', 'naive_rouge']].describe()"
   ]
  },
  {
   "cell_type": "code",
   "execution_count": 39,
   "metadata": {},
   "outputs": [
    {
     "data": {
      "text/plain": [
       "['This is the moment that a crew of firefighters struggled to haul a giant  pig out of a garden swimming pool.',\n",
       " 'The prize porker, known  as Pigwig, had fallen into the pool in an upmarket neighbourhood in Ringwood, Hampshire.',\n",
       " 'His owners had been taking him for a walk around the garden when the animal plunged into the water and was unable to get out.',\n",
       " 'A team from Dorset Fire and Rescue struggled to haul the huge black pig out of swimming pool water .',\n",
       " 'The prize porker known as Pigwig had fallen into the water and had then been unable to get out again .',\n",
       " 'Two fire crews and a specialist animal rescue team had to use slide boards and strops to haul the huge black pig from the small pool.',\n",
       " \"A spokesman for Dorset Fire and Rescue Service said: 'At 4.50pm yesterday the service received a call to a pig stuck in a swimming pool. '\",\n",
       " \"One crew of firefighters from Ferndown and a specialist animal rescue unit from Poole were mobilised to this incident. '\",\n",
       " 'Once in attendance the crew secured the pig with strops, and requested the attendance of another appliance which was mobilised from Ringwood by our colleagues in Hampshire Fire and Rescue Service.',\n",
       " 'Firefighters were also called out to a horse which had fallen into a swimming pool in Heyshott, West Sussex .',\n",
       " \"The exhausted animal had to be winched to using an all-terrain crane but appeared no worse for wear after its tumble . '\",\n",
       " \"The crew rescued the pig from the swimming pool using specialist animal rescue slide boards, strops and lines to haul the pig from the swimming pool.'\",\n",
       " \"But Pigwig wasn't the only animal who needed rescuing after taking an unexpected swim .\",\n",
       " 'Crews in West Sussex were called out to a swimming pool where this time a horse had fallen in.',\n",
       " 'Wet and very bedraggled, the exhausted animal put up no opposition when firefighters arrived to hoist her out of the small garden pool in\\xa0Heyshott.',\n",
       " 'The two-hour rescue operation ended with the wayward horse being fitted with straps under her belly and lifted up into the air with an all-terrain crane before being swung around and deposited back on dry land.',\n",
       " 'A fire brigade spokesman said that she appeared none the worse for her impromptu swim after stepping over the edge of the domestic pool.']"
      ]
     },
     "execution_count": 39,
     "metadata": {},
     "output_type": "execute_result"
    }
   ],
   "source": [
    "row=df.iloc[5]\n",
    "article = row.sentences.tolist()\n",
    "article"
   ]
  },
  {
   "cell_type": "markdown",
   "metadata": {},
   "source": [
    "For this article the following is our predicted best sentence to summarize the article."
   ]
  },
  {
   "cell_type": "code",
   "execution_count": 47,
   "metadata": {},
   "outputs": [
    {
     "data": {
      "text/plain": [
       "\"The crew rescued the pig from the swimming pool using specialist animal rescue slide boards, strops and lines to haul the pig from the swimming pool.'\""
      ]
     },
     "execution_count": 47,
     "metadata": {},
     "output_type": "execute_result"
    }
   ],
   "source": [
    "predict_top_sents(article, saved_model)"
   ]
  },
  {
   "cell_type": "markdown",
   "metadata": {},
   "source": [
    "The actual summary:"
   ]
  },
  {
   "cell_type": "code",
   "execution_count": 57,
   "metadata": {},
   "outputs": [
    {
     "name": "stdout",
     "output_type": "stream",
     "text": [
      "Giant pig fell into the swimming pool at his home in Ringwood, Hampshire .\n",
      "It took the efforts of a team of firefighters to winch him out of the water .\n",
      "A wayward horse also had to be rescued from a swimming pool in Sussex .\n"
     ]
    }
   ],
   "source": [
    "print(row.summary)"
   ]
  },
  {
   "cell_type": "markdown",
   "metadata": {},
   "source": [
    "And this is what best matched the given summary. "
   ]
  },
  {
   "cell_type": "code",
   "execution_count": 53,
   "metadata": {},
   "outputs": [
    {
     "data": {
      "text/plain": [
       "'Firefighters were also called out to a horse which had fallen into a swimming pool in Heyshott, West Sussex .'"
      ]
     },
     "execution_count": 53,
     "metadata": {},
     "output_type": "execute_result"
    }
   ],
   "source": [
    "from itertools import compress\n",
    "best_possible_match = \" \".join(list(compress(row.sentences.tolist(), row.labels.tolist())))\n",
    "best_possible_match"
   ]
  },
  {
   "cell_type": "markdown",
   "metadata": {},
   "source": [
    "This is how our predicted summary scored compared with the actual summary"
   ]
  },
  {
   "cell_type": "code",
   "execution_count": 55,
   "metadata": {},
   "outputs": [
    {
     "data": {
      "text/plain": [
       "{'rouge1': Score(precision=0.4230769230769231, recall=0.2558139534883721, fmeasure=0.3188405797101449)}"
      ]
     },
     "execution_count": 55,
     "metadata": {},
     "output_type": "execute_result"
    }
   ],
   "source": [
    "scorer.score(row.summary, predict_top_sents(article, saved_model))"
   ]
  },
  {
   "cell_type": "markdown",
   "metadata": {},
   "source": [
    "And this is with the best sentence possible. "
   ]
  },
  {
   "cell_type": "code",
   "execution_count": 56,
   "metadata": {},
   "outputs": [
    {
     "data": {
      "text/plain": [
       "{'rouge1': Score(precision=0.6842105263157895, recall=0.3023255813953488, fmeasure=0.41935483870967744)}"
      ]
     },
     "execution_count": 56,
     "metadata": {},
     "output_type": "execute_result"
    }
   ],
   "source": [
    "scorer.score(row.summary, best_possible_match)"
   ]
  }
 ],
 "metadata": {
  "kernelspec": {
   "display_name": "Python 3",
   "language": "python",
   "name": "python3"
  },
  "language_info": {
   "codemirror_mode": {
    "name": "ipython",
    "version": 3
   },
   "file_extension": ".py",
   "mimetype": "text/x-python",
   "name": "python",
   "nbconvert_exporter": "python",
   "pygments_lexer": "ipython3",
   "version": "3.7.7"
  }
 },
 "nbformat": 4,
 "nbformat_minor": 4
}
