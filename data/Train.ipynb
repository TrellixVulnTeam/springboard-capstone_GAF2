{
 "cells": [
  {
   "cell_type": "markdown",
   "metadata": {},
   "source": [
    "# Summarization Using Deep Learning Prototype\n",
    "\n",
    "This notebook is a \"first stab\" at trying to use deep learning for automatic extractive text summarization. To simplify the problem I have made the following assumptions. \n",
    "\n",
    "- The input article is 20 sentences or less.\n",
    "- A labeled dataset will be created by choosing up to the top 3 sentences that maximize the rouge score.\n",
    "- The training task is to then automatically chose which sentences should be included in the summary. \n",
    "- The input is a list of sentences in the article, and 1 sentence from the article.\n",
    "- The output is whether that sentence should be included in the summary or not. (1 or 0).\n",
    "- To classify the entire document we will have to loop over each sentence to ask the model if it should be included or not. \n",
    "\n",
    "The structure for this model gets lots of ideas from this paper:\n",
    "\n",
    "_SummaRuNNer: A Recurrent Neural Network based Sequence Model for\n",
    "Extractive Summarization of Documents_\n",
    "\n",
    "Ramesh Nallapati, Feifei Zhai, Bowen Zhou\n",
    "\n",
    "https://arxiv.org/pdf/1611.04230.pdf\n",
    "\n",
    "\n",
    "I have already made a clean dataset in the data cleaning notebook. So I can go ahead and load it. \n",
    "\n",
    "#### TODO\n",
    "- Reprocess data with spacy and multiprocessing to reduce dependencies to spark (Hard to get tfrecords to work with pyspark 2.4 but spark nlp does not work with pyspark 3.0)\n",
    "- Use given training/validation/test sets instead of own "
   ]
  },
  {
   "cell_type": "code",
   "execution_count": null,
   "metadata": {},
   "outputs": [],
   "source": [
    "# run the following command if you don't have the spacy model downloaded yet.\n",
    "# This must be done before you import spacy. https://spacy.io/models/en#en_core_web_sm\n",
    "# ! python -m spacy download en_core_web_sm"
   ]
  },
  {
   "cell_type": "code",
   "execution_count": 2,
   "metadata": {},
   "outputs": [],
   "source": [
    "import pyspark\n",
    "import pyspark.sql.functions as F\n",
    "import numpy as np\n",
    "import tensorflow as tf\n",
    "import tensorflow_hub as hub\n",
    "from tensorflow.keras import *\n",
    "import spacy\n",
    "import tensorflow_datasets as tfds\n",
    "import pandas as pd"
   ]
  },
  {
   "cell_type": "code",
   "execution_count": null,
   "metadata": {},
   "outputs": [],
   "source": []
  },
  {
   "cell_type": "code",
   "execution_count": 3,
   "metadata": {},
   "outputs": [],
   "source": [
    "#Params\n",
    "\n",
    "article_train_limit = None # How many articles we allow to be trained.\n",
    "max_article_length = 30\n",
    "batch = 128\n",
    "fine_tune_USE = True # Whether or not our we should allow additional training on the sentence embedder."
   ]
  },
  {
   "cell_type": "code",
   "execution_count": 4,
   "metadata": {},
   "outputs": [],
   "source": [
    "# TODO: get rid of Spark since it is not really needed for this use case. \n",
    "\n",
    "spark = pyspark.sql.SparkSession.builder \\\n",
    "            .appName(\"Data Ingest\") \\\n",
    "            .master(\"local[*]\") \\\n",
    "            .config(\"spark.driver.memory\", \"16G\") \\\n",
    "            .config(\"spark.driver.maxResultSize\", \"20G\").getOrCreate()"
   ]
  },
  {
   "cell_type": "code",
   "execution_count": 5,
   "metadata": {},
   "outputs": [
    {
     "data": {
      "text/plain": [
       "DataFrame[article: string, highlights: string, id: bigint, sents: array<string>, labels: array<int>]"
      ]
     },
     "execution_count": 5,
     "metadata": {},
     "output_type": "execute_result"
    }
   ],
   "source": [
    "df=spark.read.parquet('labeled.parquet')\n",
    "df"
   ]
  },
  {
   "cell_type": "markdown",
   "metadata": {},
   "source": [
    "Here is a description of the columms\n",
    "\n",
    "- **article** the original article.\n",
    "- **highlights** the summary from the dataset. \n",
    "- **id** ID generated when processing the dataset for this project. \n",
    "- **sents** an array with the article split into individual sentences\n",
    "- **labels** array same length as `sents` identifying which sentences should be in the summary."
   ]
  },
  {
   "cell_type": "code",
   "execution_count": 6,
   "metadata": {},
   "outputs": [
    {
     "data": {
      "text/plain": [
       "(3094744, 5)"
      ]
     },
     "execution_count": 6,
     "metadata": {},
     "output_type": "execute_result"
    }
   ],
   "source": [
    "df = df.withColumn(\"sent_count\", F.size(df.sents))\n",
    "df = df.where(df.sent_count<=max_article_length).toPandas()\n",
    "\n",
    "# If the article is less than max_article_length, we need to pad and mask the empty sentences.\n",
    "def make_mask(sents):\n",
    "    length = len(sents)\n",
    "    return ([True] * length) +([False] * (max_article_length-length))\n",
    "\n",
    "# Just use empty strings to pad\n",
    "def pad_sents(sents):\n",
    "    length = len(sents)\n",
    "    return sents + [\"\"] * (max_article_length-length)\n",
    "\n",
    "small_df = df.iloc[0:article_train_limit].copy()\n",
    "small_df['mask'] = small_df.sents.map(make_mask)\n",
    "\n",
    "# Here we pair the label and individual sentence then explode these into individual training examples.\n",
    "small_df['paired'] = small_df.apply(lambda x: list(zip(x.labels, x.sents)), axis=1)\n",
    "small_df = small_df.explode('paired')\n",
    "small_df['label'] = small_df.paired.map(lambda x: x[0])\n",
    "small_df['sent'] = small_df.paired.map(lambda x: x[1])\n",
    "small_df['sents'] = small_df.sents.map(pad_sents)\n",
    "small_df = small_df[['id', 'sents', 'sent', 'label', 'mask']]\n",
    "small_df.shape"
   ]
  },
  {
   "cell_type": "code",
   "execution_count": 7,
   "metadata": {},
   "outputs": [
    {
     "data": {
      "text/plain": [
       "(907826, 5)"
      ]
     },
     "execution_count": 7,
     "metadata": {},
     "output_type": "execute_result"
    }
   ],
   "source": [
    "positive = small_df[small_df.label==1].shape[0]\n",
    "balanced = small_df[small_df.label==0].iloc[0:positive].copy()\n",
    "balanced = balanced.append(small_df[small_df.label==1].copy())\n",
    "small_df = balanced.sample(frac=1)\n",
    "small_df.shape"
   ]
  },
  {
   "cell_type": "markdown",
   "metadata": {},
   "source": [
    "Here is the description of the transformed columns\n",
    "\n",
    "- **id** Same as before, now duplicated as many times as there are number of sentences.\n",
    "- **sents** The sentences parsed out, also duplicated within the dataframe. \n",
    "- **sent** The individual sentence for the training example\n",
    "- **label** Whether or not this example should be included in the summary\n",
    "- **mask** To keep track of which sentences are just padding"
   ]
  },
  {
   "cell_type": "markdown",
   "metadata": {},
   "source": [
    "## Model Graph\n",
    "\n",
    "Below you can see the summary and image. \n",
    "For the forward pass we have the sentences that get embedded using Universal Sentence Encoder and then squashed into 1 vector using a GRU. \n",
    "Then the sentence to be classified is embedded using Universal Sentence encoder as well. \n",
    "These two vectors are concatenated and dense layers bring it down to 1 output. "
   ]
  },
  {
   "cell_type": "code",
   "execution_count": 8,
   "metadata": {},
   "outputs": [],
   "source": [
    "# This can take a minute to load.\n",
    "# Loading this one multiple times sometimes causes errors. \n",
    "# If running the cells below multiple times and you get some weird un explainable error, restart\n",
    "# the kernel to see if it helps. \n",
    "\n",
    "#If you get the error SavedModel file does not exist at: /var/folders/cl....\n",
    "# Delete it ex: rm -r /var/folders/cl/63p3pg596jq18sjxn0zdb8k40000gn/T/tfhub_modules/063d866c06683311b44b4992fd46003be952409c\n",
    "\n",
    "use_embed_sent = hub.keras_layer.KerasLayer(\"https://tfhub.dev/google/universal-sentence-encoder/4\", name=\"sent_embedder\", trainable=fine_tune_USE)\n",
    "use_embed_article_sentences = hub.keras_layer.KerasLayer(\"https://tfhub.dev/google/universal-sentence-encoder/4\", name=\"article_sents_embedder\", trainable=fine_tune_USE)"
   ]
  },
  {
   "cell_type": "code",
   "execution_count": 9,
   "metadata": {},
   "outputs": [
    {
     "name": "stdout",
     "output_type": "stream",
     "text": [
      "Model: \"model\"\n",
      "__________________________________________________________________________________________________\n",
      "Layer (type)                    Output Shape         Param #     Connected to                     \n",
      "==================================================================================================\n",
      "article_sentences (InputLayer)  [(None, 30)]         0                                            \n",
      "__________________________________________________________________________________________________\n",
      "tf_op_layer_article_sentences_1 [(None,)]            0           article_sentences[0][0]          \n",
      "__________________________________________________________________________________________________\n",
      "sent (InputLayer)               [(None,)]            0                                            \n",
      "__________________________________________________________________________________________________\n",
      "article_sents_embedder (KerasLa (None, 512)          256797824   tf_op_layer_article_sentences_1d[\n",
      "__________________________________________________________________________________________________\n",
      "tf_op_layer_sent_reshaped (Tens [(None,)]            0           sent[0][0]                       \n",
      "__________________________________________________________________________________________________\n",
      "tf_op_layer_article_sentences_r [(None, 30, 512)]    0           article_sents_embedder[0][0]     \n",
      "__________________________________________________________________________________________________\n",
      "mask (InputLayer)               [(None, 30)]         0                                            \n",
      "__________________________________________________________________________________________________\n",
      "sent_embedder (KerasLayer)      (None, 512)          256797824   tf_op_layer_sent_reshaped[0][0]  \n",
      "__________________________________________________________________________________________________\n",
      "gru (GRU)                       (None, 512)          1575936     tf_op_layer_article_sentences_res\n",
      "__________________________________________________________________________________________________\n",
      "tf_op_layer_sent_embed_reshaped [(None, 512)]        0           sent_embedder[0][0]              \n",
      "__________________________________________________________________________________________________\n",
      "tf_op_layer_concated (TensorFlo [(None, 1024)]       0           gru[0][0]                        \n",
      "                                                                 tf_op_layer_sent_embed_reshaped[0\n",
      "__________________________________________________________________________________________________\n",
      "dense (Dense)                   (None, 128)          131200      tf_op_layer_concated[0][0]       \n",
      "__________________________________________________________________________________________________\n",
      "dense_1 (Dense)                 (None, 1)            129         dense[0][0]                      \n",
      "==================================================================================================\n",
      "Total params: 515,302,913\n",
      "Trainable params: 515,302,913\n",
      "Non-trainable params: 0\n",
      "__________________________________________________________________________________________________\n"
     ]
    }
   ],
   "source": [
    "article_sentences = tf.keras.layers.Input(shape=[max_article_length],dtype=tf.string, name=\"article_sentences\", ragged=False)\n",
    "sent = tf.keras.layers.Input(shape=[], name='sent', dtype=tf.string)\n",
    "mask = tf.keras.layers.Input(shape=[max_article_length], dtype=tf.bool, name=\"mask\")\n",
    "sent_reshaped = tf.reshape(sent, [-1], name=\"sent_reshaped\")\n",
    "sent_embed = use_embed_sent(sent_reshaped)\n",
    "sent_embed_reshaped = tf.reshape(sent_embed, [-1,512], name=\"sent_embed_reshaped\")\n",
    "article_sentences_1d = tf.reshape(article_sentences, [-1], name=\"article_sentences_1d\")\n",
    "article_sentences_embed = use_embed_article_sentences(article_sentences_1d)\n",
    "article_sentences_restored = tf.reshape(article_sentences_embed, [-1, max_article_length, 512], name=\"article_sentences_restored\")\n",
    "article_sentences_gru = tf.keras.layers.GRU(512,name=\"gru\")(article_sentences_restored, mask=mask)\n",
    "concatenated = tf.concat([article_sentences_gru, sent_embed_reshaped], axis=1, name=\"concated\")\n",
    "d1 = layers.Dense(128, activation='relu')(concatenated)\n",
    "d2 = layers.Dense(1, activation='sigmoid')(d1)\n",
    "model = Model(inputs=[article_sentences, sent, mask], outputs=[d2])\n",
    "model.compile(loss=losses.BinaryCrossentropy(), metrics=['accuracy', tf.keras.metrics.Recall()])\n",
    "model.summary()"
   ]
  },
  {
   "cell_type": "code",
   "execution_count": 10,
   "metadata": {},
   "outputs": [
    {
     "data": {
      "image/png": "[encoded data removed]",
      "text/plain": [
       "<IPython.core.display.Image object>"
      ]
     },
     "execution_count": 10,
     "metadata": {},
     "output_type": "execute_result"
    }
   ],
   "source": [
    "tf.keras.utils.plot_model(model, show_shapes=True, show_layer_names=True)"
   ]
  },
  {
   "cell_type": "code",
   "execution_count": 11,
   "metadata": {},
   "outputs": [],
   "source": [
    "checkpoint_filepath = 'tfmodel'\n",
    "model_checkpoint_callback = tf.keras.callbacks.ModelCheckpoint(\n",
    "    filepath=checkpoint_filepath,\n",
    "    monitor='val_accuracy',\n",
    "    mode='max',\n",
    "    save_best_only=True)"
   ]
  },
  {
   "cell_type": "code",
   "execution_count": 12,
   "metadata": {},
   "outputs": [
    {
     "name": "stdout",
     "output_type": "stream",
     "text": [
      "Epoch 1/5\n",
      "5674/5674 [==============================] - ETA: 0s - loss: 0.3695 - accuracy: 0.8301 - recall: 0.8206WARNING:tensorflow:From /home/jzeimen/anaconda3/envs/p36/lib/python3.6/site-packages/tensorflow/python/ops/resource_variable_ops.py:1817: calling BaseResourceVariable.__init__ (from tensorflow.python.ops.resource_variable_ops) with constraint is deprecated and will be removed in a future version.\n",
      "Instructions for updating:\n",
      "If using Keras pass *_constraint arguments to layers.\n"
     ]
    },
    {
     "name": "stderr",
     "output_type": "stream",
     "text": [
      "WARNING:tensorflow:From /home/jzeimen/anaconda3/envs/p36/lib/python3.6/site-packages/tensorflow/python/ops/resource_variable_ops.py:1817: calling BaseResourceVariable.__init__ (from tensorflow.python.ops.resource_variable_ops) with constraint is deprecated and will be removed in a future version.\n",
      "Instructions for updating:\n",
      "If using Keras pass *_constraint arguments to layers.\n"
     ]
    },
    {
     "name": "stdout",
     "output_type": "stream",
     "text": [
      "INFO:tensorflow:Assets written to: tfmodel/assets\n"
     ]
    },
    {
     "name": "stderr",
     "output_type": "stream",
     "text": [
      "INFO:tensorflow:Assets written to: tfmodel/assets\n"
     ]
    },
    {
     "name": "stdout",
     "output_type": "stream",
     "text": [
      "5674/5674 [==============================] - 6063s 1s/step - loss: 0.3695 - accuracy: 0.8301 - recall: 0.8206 - val_loss: 0.2483 - val_accuracy: 0.8992 - val_recall: 0.8354\n",
      "Epoch 2/5\n",
      "5674/5674 [==============================] - ETA: 0s - loss: 0.2144 - accuracy: 0.9150 - recall: 0.8637INFO:tensorflow:Assets written to: tfmodel/assets\n"
     ]
    },
    {
     "name": "stderr",
     "output_type": "stream",
     "text": [
      "INFO:tensorflow:Assets written to: tfmodel/assets\n"
     ]
    },
    {
     "name": "stdout",
     "output_type": "stream",
     "text": [
      "5674/5674 [==============================] - 6055s 1s/step - loss: 0.2144 - accuracy: 0.9150 - recall: 0.8637 - val_loss: 0.2354 - val_accuracy: 0.9056 - val_recall: 0.8202\n",
      "Epoch 3/5\n",
      "5674/5674 [==============================] - ETA: 0s - loss: 0.2072 - accuracy: 0.9201 - recall: 0.8667INFO:tensorflow:Assets written to: tfmodel/assets\n"
     ]
    },
    {
     "name": "stderr",
     "output_type": "stream",
     "text": [
      "INFO:tensorflow:Assets written to: tfmodel/assets\n"
     ]
    },
    {
     "name": "stdout",
     "output_type": "stream",
     "text": [
      "5674/5674 [==============================] - 6045s 1s/step - loss: 0.2072 - accuracy: 0.9201 - recall: 0.8667 - val_loss: 0.2317 - val_accuracy: 0.9083 - val_recall: 0.8260\n",
      "Epoch 4/5\n",
      "5674/5674 [==============================] - ETA: 0s - loss: 0.2018 - accuracy: 0.9235 - recall: 0.8734INFO:tensorflow:Assets written to: tfmodel/assets\n"
     ]
    },
    {
     "name": "stderr",
     "output_type": "stream",
     "text": [
      "INFO:tensorflow:Assets written to: tfmodel/assets\n"
     ]
    },
    {
     "name": "stdout",
     "output_type": "stream",
     "text": [
      "5674/5674 [==============================] - 6053s 1s/step - loss: 0.2018 - accuracy: 0.9235 - recall: 0.8734 - val_loss: 0.2277 - val_accuracy: 0.9105 - val_recall: 0.8430\n",
      "Epoch 5/5\n",
      "5674/5674 [==============================] - 6025s 1s/step - loss: 0.1844 - accuracy: 0.9316 - recall: 0.8885 - val_loss: 0.2424 - val_accuracy: 0.8982 - val_recall: 0.8688\n"
     ]
    }
   ],
   "source": [
    "history = model.fit(x={\"article_sentences\":tf.constant(small_df.sents.values.tolist()), \n",
    "             \"sent\":tf.constant(small_df.sent.values.tolist()), \n",
    "             \"mask\": tf.constant(small_df['mask'].values.tolist())}, \n",
    "          y=tf.convert_to_tensor(small_df.label.values), \n",
    "          batch_size=batch, \n",
    "          validation_split=0.2, epochs=5,callbacks=[model_checkpoint_callback])"
   ]
  },
  {
   "cell_type": "code",
   "execution_count": null,
   "metadata": {},
   "outputs": [],
   "source": []
  },
  {
   "cell_type": "markdown",
   "metadata": {},
   "source": [
    "# Predict"
   ]
  },
  {
   "cell_type": "code",
   "execution_count": 26,
   "metadata": {},
   "outputs": [],
   "source": [
    "validation_articles = [i for i in tfds.load(\"cnn_dailymail\")['validation']]"
   ]
  },
  {
   "cell_type": "code",
   "execution_count": 27,
   "metadata": {},
   "outputs": [
    {
     "name": "stdout",
     "output_type": "stream",
     "text": [
      "Choose an article number betwen 0 and 13368\n"
     ]
    }
   ],
   "source": [
    "print(\"Choose an article number betwen 0 and \" + str(len(validation_articles)))"
   ]
  },
  {
   "cell_type": "code",
   "execution_count": 28,
   "metadata": {},
   "outputs": [],
   "source": [
    "# TODO this might be data leakage because I processed all the records before so training may have seen these records. \n",
    "article_to_test = 60"
   ]
  },
  {
   "cell_type": "code",
   "execution_count": 29,
   "metadata": {},
   "outputs": [],
   "source": [
    "article = validation_articles[article_to_test]['article'].numpy().decode()\n",
    "summary = validation_articles[article_to_test]['highlights'].numpy().decode()"
   ]
  },
  {
   "cell_type": "code",
   "execution_count": 30,
   "metadata": {},
   "outputs": [],
   "source": [
    "# See info here https://spacy.io/models/en#en_core_web_sm\n",
    "nlp = spacy.load('en_core_web_sm')"
   ]
  },
  {
   "cell_type": "code",
   "execution_count": 31,
   "metadata": {},
   "outputs": [
    {
     "data": {
      "text/plain": [
       "23"
      ]
     },
     "execution_count": 31,
     "metadata": {},
     "output_type": "execute_result"
    }
   ],
   "source": [
    "sentences = list(nlp(article, disable=['tagger', 'ner']).sents)\n",
    "len(sentences)"
   ]
  },
  {
   "cell_type": "code",
   "execution_count": 32,
   "metadata": {},
   "outputs": [
    {
     "data": {
      "text/plain": [
       "\"I Quit Sugar author Sarah Wilson has said too many 'wellness warriors' are not taking responsibility for their actions .\\nHer words come in the wake of intense criticism of Whole Pantry founder Belle Gibson .\\nDoubts have been raised over Ms Gibson's terminal cancer claims and charitable donations .\\nMs Wilson said:\\xa0'There's a lot of people out there not taking on board the responsibility that comes with this'\\nMs Gibson  told Daily Mail Australia she would issue an explanatory statement last week - but she hasn't issued an explanation .\""
      ]
     },
     "execution_count": 32,
     "metadata": {},
     "output_type": "execute_result"
    }
   ],
   "source": [
    "summary"
   ]
  },
  {
   "cell_type": "code",
   "execution_count": 33,
   "metadata": {},
   "outputs": [
    {
     "data": {
      "text/plain": [
       "\"Wellness guru Sarah Wilson has weighed in on the Belle Gibson controversy, saying too many health bloggers do not understand their power and responsibility. Ms Gibson, founder of the popular Whole Pantry app, has faced intense criticism since doubts were raised about whether she has terminal cancer. Ms Wilson, author of I Quit Sugar, told Daily Mail Australia that the incident was 'unfortunate' and that health bloggers have a huge responsibility to their followers. 'The real issue that's going on is there's a lot of people out there not taking on board the responsibility that comes with all this,' she said. Scroll down for video . I Quit Sugar author Sarah Wilson told Daily Mail Australia many bloggers are 'not taking on board the responsibility' that comes with publishing . Whole Pantry founder Belle Gibson last week said she would issue an explanatory statement, but it has not materialised . 'I don't know that you need to be a dietitian to share information about your health journey. 'If you are somebody who works online and you claim to be a (health) blogger you have to take on certain\\xa0responsibilities. 'You have to ensure you train yourself up in all of that (science). That's what I see isn't happening. 'There's a lot of people out there who are't taking on the responsibility of being a disseminator of information. 'We've got to be very transparent and acknowledge the science is not categorical - but respect the science that is there.' Ms Wilson has said in a blog about the issue that 'diet can't cure disease'. Ms Gibson has stayed mum about her health since admitting in an interview with The Australian that her previous claims cancer had spread to her blood, spleen, uterus and liver may have been a 'misdiagnosis'. In the weeks since doubts were raised about Belle Gibson's cancer and charitable donations, her US and Australian publishers have withdrawn support for her recipe books . In the weeks since, her US and Australian publishers have withdrawn support for her recipe books. The Whole Pantry iPhone app has been removed from the Apple Store and her much-touted Apple Watch app is no longer showcased on the technology company's website. In an interview with Daily Mail Australia last Tuesday, Ms Gibson said she understood why many of her followers were upset, but she criticised the 'maliciousness' of some critics. She said she would release a statement addressing concerns about her, but that it was 'taking longer than anticipated' due to 'constantly arising issues' and articles she needed to stay on top of. Asked if the statement would address concerns about her medical history, she said: 'Of course, and every which otherwise possible.' The statement has not been released and she has not responded to questions.\""
      ]
     },
     "execution_count": 33,
     "metadata": {},
     "output_type": "execute_result"
    }
   ],
   "source": [
    "article"
   ]
  },
  {
   "cell_type": "code",
   "execution_count": 34,
   "metadata": {},
   "outputs": [],
   "source": [
    "def predict(article):\n",
    "    sentences = [str(i) for i in nlp(article, disable=['tagger', 'ner']).sents]\n",
    "    sentences = sentences[:max_article_length]\n",
    "    original_length = len(sentences)\n",
    "    sentences = pad_sents(sentences)\n",
    "    mask = make_mask(sentences)\n",
    "    scores = model({\"article_sentences\":tf.constant([sentences]*max_article_length), \n",
    "             \"sent\":tf.constant(sentences), \n",
    "             \"mask\": tf.constant([mask]*max_article_length)})\n",
    "    scores = scores.numpy().squeeze()\n",
    "    return scores, sentences\n",
    "    "
   ]
  },
  {
   "cell_type": "code",
   "execution_count": 35,
   "metadata": {},
   "outputs": [],
   "source": [
    "score, sents = predict(article)"
   ]
  },
  {
   "cell_type": "code",
   "execution_count": 36,
   "metadata": {},
   "outputs": [
    {
     "data": {
      "text/html": [
       "<style  type=\"text/css\" >\n",
       "#T_e295bb52_2a85_11eb_ad84_a5484c80b721row0_col0{\n",
       "            background-color:  #084488;\n",
       "            color:  #f1f1f1;\n",
       "        }#T_e295bb52_2a85_11eb_ad84_a5484c80b721row1_col0{\n",
       "            background-color:  #1e6db2;\n",
       "            color:  #f1f1f1;\n",
       "        }#T_e295bb52_2a85_11eb_ad84_a5484c80b721row2_col0{\n",
       "            background-color:  #0a539e;\n",
       "            color:  #f1f1f1;\n",
       "        }#T_e295bb52_2a85_11eb_ad84_a5484c80b721row3_col0{\n",
       "            background-color:  #084990;\n",
       "            color:  #f1f1f1;\n",
       "        }#T_e295bb52_2a85_11eb_ad84_a5484c80b721row4_col0,#T_e295bb52_2a85_11eb_ad84_a5484c80b721row5_col0,#T_e295bb52_2a85_11eb_ad84_a5484c80b721row7_col0,#T_e295bb52_2a85_11eb_ad84_a5484c80b721row8_col0,#T_e295bb52_2a85_11eb_ad84_a5484c80b721row11_col0{\n",
       "            background-color:  #a4cce3;\n",
       "            color:  #000000;\n",
       "        }#T_e295bb52_2a85_11eb_ad84_a5484c80b721row6_col0{\n",
       "            background-color:  #8dc1dd;\n",
       "            color:  #000000;\n",
       "        }#T_e295bb52_2a85_11eb_ad84_a5484c80b721row9_col0,#T_e295bb52_2a85_11eb_ad84_a5484c80b721row20_col0{\n",
       "            background-color:  #1f6eb3;\n",
       "            color:  #f1f1f1;\n",
       "        }#T_e295bb52_2a85_11eb_ad84_a5484c80b721row10_col0{\n",
       "            background-color:  #4f9bcb;\n",
       "            color:  #000000;\n",
       "        }#T_e295bb52_2a85_11eb_ad84_a5484c80b721row12_col0{\n",
       "            background-color:  #08306b;\n",
       "            color:  #f1f1f1;\n",
       "        }#T_e295bb52_2a85_11eb_ad84_a5484c80b721row13_col0,#T_e295bb52_2a85_11eb_ad84_a5484c80b721row19_col0{\n",
       "            background-color:  #0b559f;\n",
       "            color:  #f1f1f1;\n",
       "        }#T_e295bb52_2a85_11eb_ad84_a5484c80b721row14_col0{\n",
       "            background-color:  #1966ad;\n",
       "            color:  #f1f1f1;\n",
       "        }#T_e295bb52_2a85_11eb_ad84_a5484c80b721row15_col0{\n",
       "            background-color:  #08326e;\n",
       "            color:  #f1f1f1;\n",
       "        }#T_e295bb52_2a85_11eb_ad84_a5484c80b721row16_col0{\n",
       "            background-color:  #083370;\n",
       "            color:  #f1f1f1;\n",
       "        }#T_e295bb52_2a85_11eb_ad84_a5484c80b721row17_col0{\n",
       "            background-color:  #083877;\n",
       "            color:  #f1f1f1;\n",
       "        }#T_e295bb52_2a85_11eb_ad84_a5484c80b721row18_col0{\n",
       "            background-color:  #1562a9;\n",
       "            color:  #f1f1f1;\n",
       "        }#T_e295bb52_2a85_11eb_ad84_a5484c80b721row21_col0{\n",
       "            background-color:  #3888c1;\n",
       "            color:  #000000;\n",
       "        }#T_e295bb52_2a85_11eb_ad84_a5484c80b721row22_col0{\n",
       "            background-color:  #083d7f;\n",
       "            color:  #f1f1f1;\n",
       "        }#T_e295bb52_2a85_11eb_ad84_a5484c80b721row23_col0,#T_e295bb52_2a85_11eb_ad84_a5484c80b721row24_col0,#T_e295bb52_2a85_11eb_ad84_a5484c80b721row25_col0,#T_e295bb52_2a85_11eb_ad84_a5484c80b721row26_col0,#T_e295bb52_2a85_11eb_ad84_a5484c80b721row27_col0,#T_e295bb52_2a85_11eb_ad84_a5484c80b721row28_col0,#T_e295bb52_2a85_11eb_ad84_a5484c80b721row29_col0{\n",
       "            background-color:  #f7fbff;\n",
       "            color:  #000000;\n",
       "        }</style><table id=\"T_e295bb52_2a85_11eb_ad84_a5484c80b721\" ><thead>    <tr>        <th class=\"blank level0\" ></th>        <th class=\"col_heading level0 col0\" >score</th>        <th class=\"col_heading level0 col1\" >sentence</th>    </tr></thead><tbody>\n",
       "                <tr>\n",
       "                        <th id=\"T_e295bb52_2a85_11eb_ad84_a5484c80b721level0_row0\" class=\"row_heading level0 row0\" >0</th>\n",
       "                        <td id=\"T_e295bb52_2a85_11eb_ad84_a5484c80b721row0_col0\" class=\"data row0 col0\" >0.896164</td>\n",
       "                        <td id=\"T_e295bb52_2a85_11eb_ad84_a5484c80b721row0_col1\" class=\"data row0 col1\" >Wellness guru Sarah Wilson has weighed in on the Belle Gibson controversy, saying too many health bloggers do not understand their power and responsibility.</td>\n",
       "            </tr>\n",
       "            <tr>\n",
       "                        <th id=\"T_e295bb52_2a85_11eb_ad84_a5484c80b721level0_row1\" class=\"row_heading level0 row1\" >1</th>\n",
       "                        <td id=\"T_e295bb52_2a85_11eb_ad84_a5484c80b721row1_col0\" class=\"data row1 col0\" >0.741450</td>\n",
       "                        <td id=\"T_e295bb52_2a85_11eb_ad84_a5484c80b721row1_col1\" class=\"data row1 col1\" >Ms Gibson, founder of the popular Whole Pantry app, has faced intense criticism since doubts were raised about whether she has terminal cancer.</td>\n",
       "            </tr>\n",
       "            <tr>\n",
       "                        <th id=\"T_e295bb52_2a85_11eb_ad84_a5484c80b721level0_row2\" class=\"row_heading level0 row2\" >2</th>\n",
       "                        <td id=\"T_e295bb52_2a85_11eb_ad84_a5484c80b721row2_col0\" class=\"data row2 col0\" >0.838635</td>\n",
       "                        <td id=\"T_e295bb52_2a85_11eb_ad84_a5484c80b721row2_col1\" class=\"data row2 col1\" >Ms Wilson, author of I Quit Sugar, told Daily Mail Australia that the incident was 'unfortunate' and that health bloggers have a huge responsibility to their followers. '</td>\n",
       "            </tr>\n",
       "            <tr>\n",
       "                        <th id=\"T_e295bb52_2a85_11eb_ad84_a5484c80b721level0_row3\" class=\"row_heading level0 row3\" >3</th>\n",
       "                        <td id=\"T_e295bb52_2a85_11eb_ad84_a5484c80b721row3_col0\" class=\"data row3 col0\" >0.876278</td>\n",
       "                        <td id=\"T_e295bb52_2a85_11eb_ad84_a5484c80b721row3_col1\" class=\"data row3 col1\" >The real issue that's going on is there's a lot of people out there not taking on board the responsibility that comes with all this,' she said.</td>\n",
       "            </tr>\n",
       "            <tr>\n",
       "                        <th id=\"T_e295bb52_2a85_11eb_ad84_a5484c80b721level0_row4\" class=\"row_heading level0 row4\" >4</th>\n",
       "                        <td id=\"T_e295bb52_2a85_11eb_ad84_a5484c80b721row4_col0\" class=\"data row4 col0\" >0.347169</td>\n",
       "                        <td id=\"T_e295bb52_2a85_11eb_ad84_a5484c80b721row4_col1\" class=\"data row4 col1\" >Scroll down for video .</td>\n",
       "            </tr>\n",
       "            <tr>\n",
       "                        <th id=\"T_e295bb52_2a85_11eb_ad84_a5484c80b721level0_row5\" class=\"row_heading level0 row5\" >5</th>\n",
       "                        <td id=\"T_e295bb52_2a85_11eb_ad84_a5484c80b721row5_col0\" class=\"data row5 col0\" >0.347169</td>\n",
       "                        <td id=\"T_e295bb52_2a85_11eb_ad84_a5484c80b721row5_col1\" class=\"data row5 col1\" >I Quit Sugar author Sarah Wilson told Daily Mail Australia many bloggers are 'not taking on board the responsibility' that comes with publishing .</td>\n",
       "            </tr>\n",
       "            <tr>\n",
       "                        <th id=\"T_e295bb52_2a85_11eb_ad84_a5484c80b721level0_row6\" class=\"row_heading level0 row6\" >6</th>\n",
       "                        <td id=\"T_e295bb52_2a85_11eb_ad84_a5484c80b721row6_col0\" class=\"data row6 col0\" >0.406235</td>\n",
       "                        <td id=\"T_e295bb52_2a85_11eb_ad84_a5484c80b721row6_col1\" class=\"data row6 col1\" >Whole Pantry founder Belle Gibson last week said she would issue an explanatory statement, but it has not materialised . '</td>\n",
       "            </tr>\n",
       "            <tr>\n",
       "                        <th id=\"T_e295bb52_2a85_11eb_ad84_a5484c80b721level0_row7\" class=\"row_heading level0 row7\" >7</th>\n",
       "                        <td id=\"T_e295bb52_2a85_11eb_ad84_a5484c80b721row7_col0\" class=\"data row7 col0\" >0.347168</td>\n",
       "                        <td id=\"T_e295bb52_2a85_11eb_ad84_a5484c80b721row7_col1\" class=\"data row7 col1\" >I don't know that you need to be a dietitian to share information about your health journey. '</td>\n",
       "            </tr>\n",
       "            <tr>\n",
       "                        <th id=\"T_e295bb52_2a85_11eb_ad84_a5484c80b721level0_row8\" class=\"row_heading level0 row8\" >8</th>\n",
       "                        <td id=\"T_e295bb52_2a85_11eb_ad84_a5484c80b721row8_col0\" class=\"data row8 col0\" >0.347169</td>\n",
       "                        <td id=\"T_e295bb52_2a85_11eb_ad84_a5484c80b721row8_col1\" class=\"data row8 col1\" >If you are somebody who works online</td>\n",
       "            </tr>\n",
       "            <tr>\n",
       "                        <th id=\"T_e295bb52_2a85_11eb_ad84_a5484c80b721level0_row9\" class=\"row_heading level0 row9\" >9</th>\n",
       "                        <td id=\"T_e295bb52_2a85_11eb_ad84_a5484c80b721row9_col0\" class=\"data row9 col0\" >0.735905</td>\n",
       "                        <td id=\"T_e295bb52_2a85_11eb_ad84_a5484c80b721row9_col1\" class=\"data row9 col1\" >and you claim to be a (health) blogger you have to take on certain responsibilities. '</td>\n",
       "            </tr>\n",
       "            <tr>\n",
       "                        <th id=\"T_e295bb52_2a85_11eb_ad84_a5484c80b721level0_row10\" class=\"row_heading level0 row10\" >10</th>\n",
       "                        <td id=\"T_e295bb52_2a85_11eb_ad84_a5484c80b721row10_col0\" class=\"data row10 col0\" >0.569223</td>\n",
       "                        <td id=\"T_e295bb52_2a85_11eb_ad84_a5484c80b721row10_col1\" class=\"data row10 col1\" >You have to ensure you train yourself up in all of that (science).</td>\n",
       "            </tr>\n",
       "            <tr>\n",
       "                        <th id=\"T_e295bb52_2a85_11eb_ad84_a5484c80b721level0_row11\" class=\"row_heading level0 row11\" >11</th>\n",
       "                        <td id=\"T_e295bb52_2a85_11eb_ad84_a5484c80b721row11_col0\" class=\"data row11 col0\" >0.347168</td>\n",
       "                        <td id=\"T_e295bb52_2a85_11eb_ad84_a5484c80b721row11_col1\" class=\"data row11 col1\" >That's what I see isn't happening. '</td>\n",
       "            </tr>\n",
       "            <tr>\n",
       "                        <th id=\"T_e295bb52_2a85_11eb_ad84_a5484c80b721level0_row12\" class=\"row_heading level0 row12\" >12</th>\n",
       "                        <td id=\"T_e295bb52_2a85_11eb_ad84_a5484c80b721row12_col0\" class=\"data row12 col0\" >0.969950</td>\n",
       "                        <td id=\"T_e295bb52_2a85_11eb_ad84_a5484c80b721row12_col1\" class=\"data row12 col1\" >There's a lot of people out there who are't taking on the responsibility of being a disseminator of information. '</td>\n",
       "            </tr>\n",
       "            <tr>\n",
       "                        <th id=\"T_e295bb52_2a85_11eb_ad84_a5484c80b721level0_row13\" class=\"row_heading level0 row13\" >13</th>\n",
       "                        <td id=\"T_e295bb52_2a85_11eb_ad84_a5484c80b721row13_col0\" class=\"data row13 col0\" >0.831564</td>\n",
       "                        <td id=\"T_e295bb52_2a85_11eb_ad84_a5484c80b721row13_col1\" class=\"data row13 col1\" >We've got to be very transparent and acknowledge the science is not categorical - but respect the science that is there.'</td>\n",
       "            </tr>\n",
       "            <tr>\n",
       "                        <th id=\"T_e295bb52_2a85_11eb_ad84_a5484c80b721level0_row14\" class=\"row_heading level0 row14\" >14</th>\n",
       "                        <td id=\"T_e295bb52_2a85_11eb_ad84_a5484c80b721row14_col0\" class=\"data row14 col0\" >0.767440</td>\n",
       "                        <td id=\"T_e295bb52_2a85_11eb_ad84_a5484c80b721row14_col1\" class=\"data row14 col1\" >Ms Wilson has said in a blog about the issue that 'diet can't cure disease'.</td>\n",
       "            </tr>\n",
       "            <tr>\n",
       "                        <th id=\"T_e295bb52_2a85_11eb_ad84_a5484c80b721level0_row15\" class=\"row_heading level0 row15\" >15</th>\n",
       "                        <td id=\"T_e295bb52_2a85_11eb_ad84_a5484c80b721row15_col0\" class=\"data row15 col0\" >0.961230</td>\n",
       "                        <td id=\"T_e295bb52_2a85_11eb_ad84_a5484c80b721row15_col1\" class=\"data row15 col1\" >Ms Gibson has stayed mum about her health since admitting in an interview with The Australian that her previous claims cancer had spread to her blood, spleen, uterus and liver may have been a 'misdiagnosis'.</td>\n",
       "            </tr>\n",
       "            <tr>\n",
       "                        <th id=\"T_e295bb52_2a85_11eb_ad84_a5484c80b721level0_row16\" class=\"row_heading level0 row16\" >16</th>\n",
       "                        <td id=\"T_e295bb52_2a85_11eb_ad84_a5484c80b721row16_col0\" class=\"data row16 col0\" >0.955846</td>\n",
       "                        <td id=\"T_e295bb52_2a85_11eb_ad84_a5484c80b721row16_col1\" class=\"data row16 col1\" >In the weeks since doubts were raised about Belle Gibson's cancer and charitable donations, her US and Australian publishers have withdrawn support for her recipe books .</td>\n",
       "            </tr>\n",
       "            <tr>\n",
       "                        <th id=\"T_e295bb52_2a85_11eb_ad84_a5484c80b721level0_row17\" class=\"row_heading level0 row17\" >17</th>\n",
       "                        <td id=\"T_e295bb52_2a85_11eb_ad84_a5484c80b721row17_col0\" class=\"data row17 col0\" >0.936746</td>\n",
       "                        <td id=\"T_e295bb52_2a85_11eb_ad84_a5484c80b721row17_col1\" class=\"data row17 col1\" >In the weeks since, her US and Australian publishers have withdrawn support for her recipe books.</td>\n",
       "            </tr>\n",
       "            <tr>\n",
       "                        <th id=\"T_e295bb52_2a85_11eb_ad84_a5484c80b721level0_row18\" class=\"row_heading level0 row18\" >18</th>\n",
       "                        <td id=\"T_e295bb52_2a85_11eb_ad84_a5484c80b721row18_col0\" class=\"data row18 col0\" >0.782375</td>\n",
       "                        <td id=\"T_e295bb52_2a85_11eb_ad84_a5484c80b721row18_col1\" class=\"data row18 col1\" >The Whole Pantry iPhone app has been removed from the Apple Store and her much-touted Apple Watch app is no longer showcased on the technology company's website.</td>\n",
       "            </tr>\n",
       "            <tr>\n",
       "                        <th id=\"T_e295bb52_2a85_11eb_ad84_a5484c80b721level0_row19\" class=\"row_heading level0 row19\" >19</th>\n",
       "                        <td id=\"T_e295bb52_2a85_11eb_ad84_a5484c80b721row19_col0\" class=\"data row19 col0\" >0.830923</td>\n",
       "                        <td id=\"T_e295bb52_2a85_11eb_ad84_a5484c80b721row19_col1\" class=\"data row19 col1\" >In an interview with Daily Mail Australia last Tuesday, Ms Gibson said she understood why many of her followers were upset, but she criticised the 'maliciousness' of some critics.</td>\n",
       "            </tr>\n",
       "            <tr>\n",
       "                        <th id=\"T_e295bb52_2a85_11eb_ad84_a5484c80b721level0_row20\" class=\"row_heading level0 row20\" >20</th>\n",
       "                        <td id=\"T_e295bb52_2a85_11eb_ad84_a5484c80b721row20_col0\" class=\"data row20 col0\" >0.739326</td>\n",
       "                        <td id=\"T_e295bb52_2a85_11eb_ad84_a5484c80b721row20_col1\" class=\"data row20 col1\" >She said she would release a statement addressing concerns about her, but that it was 'taking longer than anticipated' due to 'constantly arising issues' and articles she needed to stay on top of.</td>\n",
       "            </tr>\n",
       "            <tr>\n",
       "                        <th id=\"T_e295bb52_2a85_11eb_ad84_a5484c80b721level0_row21\" class=\"row_heading level0 row21\" >21</th>\n",
       "                        <td id=\"T_e295bb52_2a85_11eb_ad84_a5484c80b721row21_col0\" class=\"data row21 col0\" >0.641139</td>\n",
       "                        <td id=\"T_e295bb52_2a85_11eb_ad84_a5484c80b721row21_col1\" class=\"data row21 col1\" >Asked if the statement would address concerns about her medical history, she said: 'Of course, and every which otherwise possible.'</td>\n",
       "            </tr>\n",
       "            <tr>\n",
       "                        <th id=\"T_e295bb52_2a85_11eb_ad84_a5484c80b721level0_row22\" class=\"row_heading level0 row22\" >22</th>\n",
       "                        <td id=\"T_e295bb52_2a85_11eb_ad84_a5484c80b721row22_col0\" class=\"data row22 col0\" >0.920150</td>\n",
       "                        <td id=\"T_e295bb52_2a85_11eb_ad84_a5484c80b721row22_col1\" class=\"data row22 col1\" >The statement has not been released and she has not responded to questions.</td>\n",
       "            </tr>\n",
       "            <tr>\n",
       "                        <th id=\"T_e295bb52_2a85_11eb_ad84_a5484c80b721level0_row23\" class=\"row_heading level0 row23\" >23</th>\n",
       "                        <td id=\"T_e295bb52_2a85_11eb_ad84_a5484c80b721row23_col0\" class=\"data row23 col0\" >0.002203</td>\n",
       "                        <td id=\"T_e295bb52_2a85_11eb_ad84_a5484c80b721row23_col1\" class=\"data row23 col1\" ></td>\n",
       "            </tr>\n",
       "            <tr>\n",
       "                        <th id=\"T_e295bb52_2a85_11eb_ad84_a5484c80b721level0_row24\" class=\"row_heading level0 row24\" >24</th>\n",
       "                        <td id=\"T_e295bb52_2a85_11eb_ad84_a5484c80b721row24_col0\" class=\"data row24 col0\" >0.002203</td>\n",
       "                        <td id=\"T_e295bb52_2a85_11eb_ad84_a5484c80b721row24_col1\" class=\"data row24 col1\" ></td>\n",
       "            </tr>\n",
       "            <tr>\n",
       "                        <th id=\"T_e295bb52_2a85_11eb_ad84_a5484c80b721level0_row25\" class=\"row_heading level0 row25\" >25</th>\n",
       "                        <td id=\"T_e295bb52_2a85_11eb_ad84_a5484c80b721row25_col0\" class=\"data row25 col0\" >0.002203</td>\n",
       "                        <td id=\"T_e295bb52_2a85_11eb_ad84_a5484c80b721row25_col1\" class=\"data row25 col1\" ></td>\n",
       "            </tr>\n",
       "            <tr>\n",
       "                        <th id=\"T_e295bb52_2a85_11eb_ad84_a5484c80b721level0_row26\" class=\"row_heading level0 row26\" >26</th>\n",
       "                        <td id=\"T_e295bb52_2a85_11eb_ad84_a5484c80b721row26_col0\" class=\"data row26 col0\" >0.002203</td>\n",
       "                        <td id=\"T_e295bb52_2a85_11eb_ad84_a5484c80b721row26_col1\" class=\"data row26 col1\" ></td>\n",
       "            </tr>\n",
       "            <tr>\n",
       "                        <th id=\"T_e295bb52_2a85_11eb_ad84_a5484c80b721level0_row27\" class=\"row_heading level0 row27\" >27</th>\n",
       "                        <td id=\"T_e295bb52_2a85_11eb_ad84_a5484c80b721row27_col0\" class=\"data row27 col0\" >0.002203</td>\n",
       "                        <td id=\"T_e295bb52_2a85_11eb_ad84_a5484c80b721row27_col1\" class=\"data row27 col1\" ></td>\n",
       "            </tr>\n",
       "            <tr>\n",
       "                        <th id=\"T_e295bb52_2a85_11eb_ad84_a5484c80b721level0_row28\" class=\"row_heading level0 row28\" >28</th>\n",
       "                        <td id=\"T_e295bb52_2a85_11eb_ad84_a5484c80b721row28_col0\" class=\"data row28 col0\" >0.002203</td>\n",
       "                        <td id=\"T_e295bb52_2a85_11eb_ad84_a5484c80b721row28_col1\" class=\"data row28 col1\" ></td>\n",
       "            </tr>\n",
       "            <tr>\n",
       "                        <th id=\"T_e295bb52_2a85_11eb_ad84_a5484c80b721level0_row29\" class=\"row_heading level0 row29\" >29</th>\n",
       "                        <td id=\"T_e295bb52_2a85_11eb_ad84_a5484c80b721row29_col0\" class=\"data row29 col0\" >0.002203</td>\n",
       "                        <td id=\"T_e295bb52_2a85_11eb_ad84_a5484c80b721row29_col1\" class=\"data row29 col1\" ></td>\n",
       "            </tr>\n",
       "    </tbody></table>"
      ],
      "text/plain": [
       "<pandas.io.formats.style.Styler at 0x7f44c005ba58>"
      ]
     },
     "execution_count": 36,
     "metadata": {},
     "output_type": "execute_result"
    }
   ],
   "source": [
    "pd.set_option('display.max_colwidth', None)\n",
    "df = pd.DataFrame({'score': score, 'sentence': sents})\n",
    "df.style.background_gradient(cmap ='Blues', axis=0)"
   ]
  },
  {
   "cell_type": "code",
   "execution_count": 24,
   "metadata": {},
   "outputs": [
    {
     "data": {
      "text/html": [
       "<div>\n",
       "<style scoped>\n",
       "    .dataframe tbody tr th:only-of-type {\n",
       "        vertical-align: middle;\n",
       "    }\n",
       "\n",
       "    .dataframe tbody tr th {\n",
       "        vertical-align: top;\n",
       "    }\n",
       "\n",
       "    .dataframe thead th {\n",
       "        text-align: right;\n",
       "    }\n",
       "</style>\n",
       "<table border=\"1\" class=\"dataframe\">\n",
       "  <thead>\n",
       "    <tr style=\"text-align: right;\">\n",
       "      <th></th>\n",
       "      <th>score</th>\n",
       "      <th>sentence</th>\n",
       "    </tr>\n",
       "  </thead>\n",
       "  <tbody>\n",
       "    <tr>\n",
       "      <th>12</th>\n",
       "      <td>0.969950</td>\n",
       "      <td>There's a lot of people out there who are't taking on the responsibility of being a disseminator of information. '</td>\n",
       "    </tr>\n",
       "    <tr>\n",
       "      <th>15</th>\n",
       "      <td>0.961230</td>\n",
       "      <td>Ms Gibson has stayed mum about her health since admitting in an interview with The Australian that her previous claims cancer had spread to her blood, spleen, uterus and liver may have been a 'misdiagnosis'.</td>\n",
       "    </tr>\n",
       "    <tr>\n",
       "      <th>16</th>\n",
       "      <td>0.955846</td>\n",
       "      <td>In the weeks since doubts were raised about Belle Gibson's cancer and charitable donations, her US and Australian publishers have withdrawn support for her recipe books .</td>\n",
       "    </tr>\n",
       "  </tbody>\n",
       "</table>\n",
       "</div>"
      ],
      "text/plain": [
       "       score  \\\n",
       "12  0.969950   \n",
       "15  0.961230   \n",
       "16  0.955846   \n",
       "\n",
       "                                                                                                                                                                                                           sentence  \n",
       "12                                                                                               There's a lot of people out there who are't taking on the responsibility of being a disseminator of information. '  \n",
       "15  Ms Gibson has stayed mum about her health since admitting in an interview with The Australian that her previous claims cancer had spread to her blood, spleen, uterus and liver may have been a 'misdiagnosis'.  \n",
       "16                                       In the weeks since doubts were raised about Belle Gibson's cancer and charitable donations, her US and Australian publishers have withdrawn support for her recipe books .  "
      ]
     },
     "execution_count": 24,
     "metadata": {},
     "output_type": "execute_result"
    }
   ],
   "source": [
    "df.nlargest(3,'score').sort_index()"
   ]
  },
  {
   "cell_type": "code",
   "execution_count": 25,
   "metadata": {},
   "outputs": [
    {
     "data": {
      "text/plain": [
       "\"I Quit Sugar author Sarah Wilson has said too many 'wellness warriors' are not taking responsibility for their actions .\\nHer words come in the wake of intense criticism of Whole Pantry founder Belle Gibson .\\nDoubts have been raised over Ms Gibson's terminal cancer claims and charitable donations .\\nMs Wilson said:\\xa0'There's a lot of people out there not taking on board the responsibility that comes with this'\\nMs Gibson  told Daily Mail Australia she would issue an explanatory statement last week - but she hasn't issued an explanation .\""
      ]
     },
     "execution_count": 25,
     "metadata": {},
     "output_type": "execute_result"
    }
   ],
   "source": [
    "summary"
   ]
  },
  {
   "cell_type": "code",
   "execution_count": null,
   "metadata": {},
   "outputs": [],
   "source": []
  }
 ],
 "metadata": {
  "kernelspec": {
   "display_name": "Python 3",
   "language": "python",
   "name": "python3"
  },
  "language_info": {
   "codemirror_mode": {
    "name": "ipython",
    "version": 3
   },
   "file_extension": ".py",
   "mimetype": "text/x-python",
   "name": "python",
   "nbconvert_exporter": "python",
   "pygments_lexer": "ipython3",
   "version": "3.6.12"
  }
 },
 "nbformat": 4,
 "nbformat_minor": 4
}
